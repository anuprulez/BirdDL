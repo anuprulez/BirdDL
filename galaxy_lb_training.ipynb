{
 "cells": [
  {
   "cell_type": "code",
   "execution_count": 1,
   "id": "c1672fea-bc7f-4a27-9135-78be3dee7cbd",
   "metadata": {},
   "outputs": [
    {
     "name": "stderr",
     "output_type": "stream",
     "text": [
      "/home/anupkumar/anaconda3/envs/galaxye/lib/python3.10/site-packages/tqdm/auto.py:22: TqdmWarning: IProgress not found. Please update jupyter and ipywidgets. See https://ipywidgets.readthedocs.io/en/stable/user_install.html\n",
      "  from .autonotebook import tqdm as notebook_tqdm\n"
     ]
    }
   ],
   "source": [
    "import numpy as np\n",
    "import pandas as pd\n",
    "import matplotlib.pyplot as plt\n",
    "\n",
    "import torch\n",
    "from torch import nn\n",
    "from torch.utils.data import DataLoader, Dataset\n",
    "from torchvision import transforms\n",
    "from pytorch_lightning import LightningModule, Trainer\n",
    "from pytorch_lightning.callbacks import ModelCheckpoint, EarlyStopping\n",
    "\n",
    "# https://journals.plos.org/ploscompbiol/article?id=10.1371/journal.pcbi.1009890"
   ]
  },
  {
   "cell_type": "code",
   "execution_count": 2,
   "id": "e62a8636-c518-474c-8e2c-e00e1ad1a713",
   "metadata": {},
   "outputs": [],
   "source": [
    "from utils.dataloader import *\n",
    "from utils.model import *"
   ]
  },
  {
   "cell_type": "code",
   "execution_count": 3,
   "id": "ccb1b29f-8e1d-40b8-a3c9-5502103c0e3c",
   "metadata": {},
   "outputs": [],
   "source": [
    "data_train = pd.read_csv('./data/LB_train.csv')\n",
    "data_validation = pd.read_csv('./data/LB_validation.csv')\n",
    "data_test = pd.read_csv('./data/LB_test.csv')"
   ]
  },
  {
   "cell_type": "code",
   "execution_count": 4,
   "id": "39edfc6b-d8c0-4cde-a9fe-0c3baff271f9",
   "metadata": {},
   "outputs": [
    {
     "name": "stderr",
     "output_type": "stream",
     "text": [
      "/home/anupkumar/egalaxy/birdl/BirdDL/utils/dataloader.py:73: FutureWarning: The frame.append method is deprecated and will be removed from pandas in a future version. Use pandas.concat instead.\n",
      "  data_new = data_new.append(traj, ignore_index=True)\n",
      "/home/anupkumar/egalaxy/birdl/BirdDL/utils/dataloader.py:65: FutureWarning: The behavior of `series[i:j]` with an integer-dtype index is deprecated. In a future version, this will be treated as *label-based* indexing, consistent with e.g. `series[i]` lookups. To retain the old behavior, use `series.iloc[i:j]`. To get the future behavior, use `series.loc[i:j]`.\n",
      "  traj['gaps'] = [np.mean(1*t.gaps[i:i+resolution]) for i in range(len(t)) if i%resolution==0]\n",
      "/home/anupkumar/egalaxy/birdl/BirdDL/utils/dataloader.py:66: FutureWarning: The behavior of `series[i:j]` with an integer-dtype index is deprecated. In a future version, this will be treated as *label-based* indexing, consistent with e.g. `series[i]` lookups. To retain the old behavior, use `series.iloc[i:j]`. To get the future behavior, use `series.loc[i:j]`.\n",
      "  traj['dive'] = [np.max(t.dive[i:i+resolution]) for i in range(len(t)) if i%resolution==0]\n",
      "/home/anupkumar/egalaxy/birdl/BirdDL/utils/dataloader.py:73: FutureWarning: The frame.append method is deprecated and will be removed from pandas in a future version. Use pandas.concat instead.\n",
      "  data_new = data_new.append(traj, ignore_index=True)\n",
      "/home/anupkumar/egalaxy/birdl/BirdDL/utils/dataloader.py:65: FutureWarning: The behavior of `series[i:j]` with an integer-dtype index is deprecated. In a future version, this will be treated as *label-based* indexing, consistent with e.g. `series[i]` lookups. To retain the old behavior, use `series.iloc[i:j]`. To get the future behavior, use `series.loc[i:j]`.\n",
      "  traj['gaps'] = [np.mean(1*t.gaps[i:i+resolution]) for i in range(len(t)) if i%resolution==0]\n",
      "/home/anupkumar/egalaxy/birdl/BirdDL/utils/dataloader.py:66: FutureWarning: The behavior of `series[i:j]` with an integer-dtype index is deprecated. In a future version, this will be treated as *label-based* indexing, consistent with e.g. `series[i]` lookups. To retain the old behavior, use `series.iloc[i:j]`. To get the future behavior, use `series.loc[i:j]`.\n",
      "  traj['dive'] = [np.max(t.dive[i:i+resolution]) for i in range(len(t)) if i%resolution==0]\n",
      "/home/anupkumar/egalaxy/birdl/BirdDL/utils/dataloader.py:73: FutureWarning: The frame.append method is deprecated and will be removed from pandas in a future version. Use pandas.concat instead.\n",
      "  data_new = data_new.append(traj, ignore_index=True)\n",
      "/home/anupkumar/egalaxy/birdl/BirdDL/utils/dataloader.py:65: FutureWarning: The behavior of `series[i:j]` with an integer-dtype index is deprecated. In a future version, this will be treated as *label-based* indexing, consistent with e.g. `series[i]` lookups. To retain the old behavior, use `series.iloc[i:j]`. To get the future behavior, use `series.loc[i:j]`.\n",
      "  traj['gaps'] = [np.mean(1*t.gaps[i:i+resolution]) for i in range(len(t)) if i%resolution==0]\n",
      "/home/anupkumar/egalaxy/birdl/BirdDL/utils/dataloader.py:66: FutureWarning: The behavior of `series[i:j]` with an integer-dtype index is deprecated. In a future version, this will be treated as *label-based* indexing, consistent with e.g. `series[i]` lookups. To retain the old behavior, use `series.iloc[i:j]`. To get the future behavior, use `series.loc[i:j]`.\n",
      "  traj['dive'] = [np.max(t.dive[i:i+resolution]) for i in range(len(t)) if i%resolution==0]\n",
      "/home/anupkumar/egalaxy/birdl/BirdDL/utils/dataloader.py:73: FutureWarning: The frame.append method is deprecated and will be removed from pandas in a future version. Use pandas.concat instead.\n",
      "  data_new = data_new.append(traj, ignore_index=True)\n",
      "/home/anupkumar/egalaxy/birdl/BirdDL/utils/dataloader.py:65: FutureWarning: The behavior of `series[i:j]` with an integer-dtype index is deprecated. In a future version, this will be treated as *label-based* indexing, consistent with e.g. `series[i]` lookups. To retain the old behavior, use `series.iloc[i:j]`. To get the future behavior, use `series.loc[i:j]`.\n",
      "  traj['gaps'] = [np.mean(1*t.gaps[i:i+resolution]) for i in range(len(t)) if i%resolution==0]\n",
      "/home/anupkumar/egalaxy/birdl/BirdDL/utils/dataloader.py:66: FutureWarning: The behavior of `series[i:j]` with an integer-dtype index is deprecated. In a future version, this will be treated as *label-based* indexing, consistent with e.g. `series[i]` lookups. To retain the old behavior, use `series.iloc[i:j]`. To get the future behavior, use `series.loc[i:j]`.\n",
      "  traj['dive'] = [np.max(t.dive[i:i+resolution]) for i in range(len(t)) if i%resolution==0]\n",
      "/home/anupkumar/egalaxy/birdl/BirdDL/utils/dataloader.py:73: FutureWarning: The frame.append method is deprecated and will be removed from pandas in a future version. Use pandas.concat instead.\n",
      "  data_new = data_new.append(traj, ignore_index=True)\n",
      "/home/anupkumar/egalaxy/birdl/BirdDL/utils/dataloader.py:65: FutureWarning: The behavior of `series[i:j]` with an integer-dtype index is deprecated. In a future version, this will be treated as *label-based* indexing, consistent with e.g. `series[i]` lookups. To retain the old behavior, use `series.iloc[i:j]`. To get the future behavior, use `series.loc[i:j]`.\n",
      "  traj['gaps'] = [np.mean(1*t.gaps[i:i+resolution]) for i in range(len(t)) if i%resolution==0]\n",
      "/home/anupkumar/egalaxy/birdl/BirdDL/utils/dataloader.py:66: FutureWarning: The behavior of `series[i:j]` with an integer-dtype index is deprecated. In a future version, this will be treated as *label-based* indexing, consistent with e.g. `series[i]` lookups. To retain the old behavior, use `series.iloc[i:j]`. To get the future behavior, use `series.loc[i:j]`.\n",
      "  traj['dive'] = [np.max(t.dive[i:i+resolution]) for i in range(len(t)) if i%resolution==0]\n",
      "/home/anupkumar/egalaxy/birdl/BirdDL/utils/dataloader.py:73: FutureWarning: The frame.append method is deprecated and will be removed from pandas in a future version. Use pandas.concat instead.\n",
      "  data_new = data_new.append(traj, ignore_index=True)\n",
      "/home/anupkumar/egalaxy/birdl/BirdDL/utils/dataloader.py:65: FutureWarning: The behavior of `series[i:j]` with an integer-dtype index is deprecated. In a future version, this will be treated as *label-based* indexing, consistent with e.g. `series[i]` lookups. To retain the old behavior, use `series.iloc[i:j]`. To get the future behavior, use `series.loc[i:j]`.\n",
      "  traj['gaps'] = [np.mean(1*t.gaps[i:i+resolution]) for i in range(len(t)) if i%resolution==0]\n",
      "/home/anupkumar/egalaxy/birdl/BirdDL/utils/dataloader.py:66: FutureWarning: The behavior of `series[i:j]` with an integer-dtype index is deprecated. In a future version, this will be treated as *label-based* indexing, consistent with e.g. `series[i]` lookups. To retain the old behavior, use `series.iloc[i:j]`. To get the future behavior, use `series.loc[i:j]`.\n",
      "  traj['dive'] = [np.max(t.dive[i:i+resolution]) for i in range(len(t)) if i%resolution==0]\n",
      "/home/anupkumar/egalaxy/birdl/BirdDL/utils/dataloader.py:73: FutureWarning: The frame.append method is deprecated and will be removed from pandas in a future version. Use pandas.concat instead.\n",
      "  data_new = data_new.append(traj, ignore_index=True)\n",
      "/home/anupkumar/egalaxy/birdl/BirdDL/utils/dataloader.py:65: FutureWarning: The behavior of `series[i:j]` with an integer-dtype index is deprecated. In a future version, this will be treated as *label-based* indexing, consistent with e.g. `series[i]` lookups. To retain the old behavior, use `series.iloc[i:j]`. To get the future behavior, use `series.loc[i:j]`.\n",
      "  traj['gaps'] = [np.mean(1*t.gaps[i:i+resolution]) for i in range(len(t)) if i%resolution==0]\n",
      "/home/anupkumar/egalaxy/birdl/BirdDL/utils/dataloader.py:66: FutureWarning: The behavior of `series[i:j]` with an integer-dtype index is deprecated. In a future version, this will be treated as *label-based* indexing, consistent with e.g. `series[i]` lookups. To retain the old behavior, use `series.iloc[i:j]`. To get the future behavior, use `series.loc[i:j]`.\n",
      "  traj['dive'] = [np.max(t.dive[i:i+resolution]) for i in range(len(t)) if i%resolution==0]\n",
      "/home/anupkumar/egalaxy/birdl/BirdDL/utils/dataloader.py:73: FutureWarning: The frame.append method is deprecated and will be removed from pandas in a future version. Use pandas.concat instead.\n",
      "  data_new = data_new.append(traj, ignore_index=True)\n",
      "/home/anupkumar/egalaxy/birdl/BirdDL/utils/dataloader.py:65: FutureWarning: The behavior of `series[i:j]` with an integer-dtype index is deprecated. In a future version, this will be treated as *label-based* indexing, consistent with e.g. `series[i]` lookups. To retain the old behavior, use `series.iloc[i:j]`. To get the future behavior, use `series.loc[i:j]`.\n",
      "  traj['gaps'] = [np.mean(1*t.gaps[i:i+resolution]) for i in range(len(t)) if i%resolution==0]\n",
      "/home/anupkumar/egalaxy/birdl/BirdDL/utils/dataloader.py:66: FutureWarning: The behavior of `series[i:j]` with an integer-dtype index is deprecated. In a future version, this will be treated as *label-based* indexing, consistent with e.g. `series[i]` lookups. To retain the old behavior, use `series.iloc[i:j]`. To get the future behavior, use `series.loc[i:j]`.\n",
      "  traj['dive'] = [np.max(t.dive[i:i+resolution]) for i in range(len(t)) if i%resolution==0]\n",
      "/home/anupkumar/egalaxy/birdl/BirdDL/utils/dataloader.py:73: FutureWarning: The frame.append method is deprecated and will be removed from pandas in a future version. Use pandas.concat instead.\n",
      "  data_new = data_new.append(traj, ignore_index=True)\n",
      "/home/anupkumar/egalaxy/birdl/BirdDL/utils/dataloader.py:65: FutureWarning: The behavior of `series[i:j]` with an integer-dtype index is deprecated. In a future version, this will be treated as *label-based* indexing, consistent with e.g. `series[i]` lookups. To retain the old behavior, use `series.iloc[i:j]`. To get the future behavior, use `series.loc[i:j]`.\n",
      "  traj['gaps'] = [np.mean(1*t.gaps[i:i+resolution]) for i in range(len(t)) if i%resolution==0]\n",
      "/home/anupkumar/egalaxy/birdl/BirdDL/utils/dataloader.py:66: FutureWarning: The behavior of `series[i:j]` with an integer-dtype index is deprecated. In a future version, this will be treated as *label-based* indexing, consistent with e.g. `series[i]` lookups. To retain the old behavior, use `series.iloc[i:j]`. To get the future behavior, use `series.loc[i:j]`.\n",
      "  traj['dive'] = [np.max(t.dive[i:i+resolution]) for i in range(len(t)) if i%resolution==0]\n",
      "/home/anupkumar/egalaxy/birdl/BirdDL/utils/dataloader.py:73: FutureWarning: The frame.append method is deprecated and will be removed from pandas in a future version. Use pandas.concat instead.\n",
      "  data_new = data_new.append(traj, ignore_index=True)\n",
      "/home/anupkumar/egalaxy/birdl/BirdDL/utils/dataloader.py:65: FutureWarning: The behavior of `series[i:j]` with an integer-dtype index is deprecated. In a future version, this will be treated as *label-based* indexing, consistent with e.g. `series[i]` lookups. To retain the old behavior, use `series.iloc[i:j]`. To get the future behavior, use `series.loc[i:j]`.\n",
      "  traj['gaps'] = [np.mean(1*t.gaps[i:i+resolution]) for i in range(len(t)) if i%resolution==0]\n",
      "/home/anupkumar/egalaxy/birdl/BirdDL/utils/dataloader.py:66: FutureWarning: The behavior of `series[i:j]` with an integer-dtype index is deprecated. In a future version, this will be treated as *label-based* indexing, consistent with e.g. `series[i]` lookups. To retain the old behavior, use `series.iloc[i:j]`. To get the future behavior, use `series.loc[i:j]`.\n",
      "  traj['dive'] = [np.max(t.dive[i:i+resolution]) for i in range(len(t)) if i%resolution==0]\n",
      "/home/anupkumar/egalaxy/birdl/BirdDL/utils/dataloader.py:73: FutureWarning: The frame.append method is deprecated and will be removed from pandas in a future version. Use pandas.concat instead.\n",
      "  data_new = data_new.append(traj, ignore_index=True)\n",
      "/home/anupkumar/egalaxy/birdl/BirdDL/utils/dataloader.py:65: FutureWarning: The behavior of `series[i:j]` with an integer-dtype index is deprecated. In a future version, this will be treated as *label-based* indexing, consistent with e.g. `series[i]` lookups. To retain the old behavior, use `series.iloc[i:j]`. To get the future behavior, use `series.loc[i:j]`.\n",
      "  traj['gaps'] = [np.mean(1*t.gaps[i:i+resolution]) for i in range(len(t)) if i%resolution==0]\n",
      "/home/anupkumar/egalaxy/birdl/BirdDL/utils/dataloader.py:66: FutureWarning: The behavior of `series[i:j]` with an integer-dtype index is deprecated. In a future version, this will be treated as *label-based* indexing, consistent with e.g. `series[i]` lookups. To retain the old behavior, use `series.iloc[i:j]`. To get the future behavior, use `series.loc[i:j]`.\n",
      "  traj['dive'] = [np.max(t.dive[i:i+resolution]) for i in range(len(t)) if i%resolution==0]\n",
      "/home/anupkumar/egalaxy/birdl/BirdDL/utils/dataloader.py:73: FutureWarning: The frame.append method is deprecated and will be removed from pandas in a future version. Use pandas.concat instead.\n",
      "  data_new = data_new.append(traj, ignore_index=True)\n",
      "/home/anupkumar/egalaxy/birdl/BirdDL/utils/dataloader.py:65: FutureWarning: The behavior of `series[i:j]` with an integer-dtype index is deprecated. In a future version, this will be treated as *label-based* indexing, consistent with e.g. `series[i]` lookups. To retain the old behavior, use `series.iloc[i:j]`. To get the future behavior, use `series.loc[i:j]`.\n",
      "  traj['gaps'] = [np.mean(1*t.gaps[i:i+resolution]) for i in range(len(t)) if i%resolution==0]\n",
      "/home/anupkumar/egalaxy/birdl/BirdDL/utils/dataloader.py:66: FutureWarning: The behavior of `series[i:j]` with an integer-dtype index is deprecated. In a future version, this will be treated as *label-based* indexing, consistent with e.g. `series[i]` lookups. To retain the old behavior, use `series.iloc[i:j]`. To get the future behavior, use `series.loc[i:j]`.\n",
      "  traj['dive'] = [np.max(t.dive[i:i+resolution]) for i in range(len(t)) if i%resolution==0]\n",
      "/home/anupkumar/egalaxy/birdl/BirdDL/utils/dataloader.py:73: FutureWarning: The frame.append method is deprecated and will be removed from pandas in a future version. Use pandas.concat instead.\n",
      "  data_new = data_new.append(traj, ignore_index=True)\n",
      "/home/anupkumar/egalaxy/birdl/BirdDL/utils/dataloader.py:65: FutureWarning: The behavior of `series[i:j]` with an integer-dtype index is deprecated. In a future version, this will be treated as *label-based* indexing, consistent with e.g. `series[i]` lookups. To retain the old behavior, use `series.iloc[i:j]`. To get the future behavior, use `series.loc[i:j]`.\n",
      "  traj['gaps'] = [np.mean(1*t.gaps[i:i+resolution]) for i in range(len(t)) if i%resolution==0]\n",
      "/home/anupkumar/egalaxy/birdl/BirdDL/utils/dataloader.py:66: FutureWarning: The behavior of `series[i:j]` with an integer-dtype index is deprecated. In a future version, this will be treated as *label-based* indexing, consistent with e.g. `series[i]` lookups. To retain the old behavior, use `series.iloc[i:j]`. To get the future behavior, use `series.loc[i:j]`.\n",
      "  traj['dive'] = [np.max(t.dive[i:i+resolution]) for i in range(len(t)) if i%resolution==0]\n",
      "/home/anupkumar/egalaxy/birdl/BirdDL/utils/dataloader.py:73: FutureWarning: The frame.append method is deprecated and will be removed from pandas in a future version. Use pandas.concat instead.\n",
      "  data_new = data_new.append(traj, ignore_index=True)\n",
      "/home/anupkumar/egalaxy/birdl/BirdDL/utils/dataloader.py:65: FutureWarning: The behavior of `series[i:j]` with an integer-dtype index is deprecated. In a future version, this will be treated as *label-based* indexing, consistent with e.g. `series[i]` lookups. To retain the old behavior, use `series.iloc[i:j]`. To get the future behavior, use `series.loc[i:j]`.\n",
      "  traj['gaps'] = [np.mean(1*t.gaps[i:i+resolution]) for i in range(len(t)) if i%resolution==0]\n",
      "/home/anupkumar/egalaxy/birdl/BirdDL/utils/dataloader.py:66: FutureWarning: The behavior of `series[i:j]` with an integer-dtype index is deprecated. In a future version, this will be treated as *label-based* indexing, consistent with e.g. `series[i]` lookups. To retain the old behavior, use `series.iloc[i:j]`. To get the future behavior, use `series.loc[i:j]`.\n",
      "  traj['dive'] = [np.max(t.dive[i:i+resolution]) for i in range(len(t)) if i%resolution==0]\n",
      "/home/anupkumar/egalaxy/birdl/BirdDL/utils/dataloader.py:73: FutureWarning: The frame.append method is deprecated and will be removed from pandas in a future version. Use pandas.concat instead.\n",
      "  data_new = data_new.append(traj, ignore_index=True)\n",
      "/home/anupkumar/egalaxy/birdl/BirdDL/utils/dataloader.py:65: FutureWarning: The behavior of `series[i:j]` with an integer-dtype index is deprecated. In a future version, this will be treated as *label-based* indexing, consistent with e.g. `series[i]` lookups. To retain the old behavior, use `series.iloc[i:j]`. To get the future behavior, use `series.loc[i:j]`.\n",
      "  traj['gaps'] = [np.mean(1*t.gaps[i:i+resolution]) for i in range(len(t)) if i%resolution==0]\n",
      "/home/anupkumar/egalaxy/birdl/BirdDL/utils/dataloader.py:66: FutureWarning: The behavior of `series[i:j]` with an integer-dtype index is deprecated. In a future version, this will be treated as *label-based* indexing, consistent with e.g. `series[i]` lookups. To retain the old behavior, use `series.iloc[i:j]`. To get the future behavior, use `series.loc[i:j]`.\n",
      "  traj['dive'] = [np.max(t.dive[i:i+resolution]) for i in range(len(t)) if i%resolution==0]\n",
      "/home/anupkumar/egalaxy/birdl/BirdDL/utils/dataloader.py:73: FutureWarning: The frame.append method is deprecated and will be removed from pandas in a future version. Use pandas.concat instead.\n",
      "  data_new = data_new.append(traj, ignore_index=True)\n",
      "/home/anupkumar/egalaxy/birdl/BirdDL/utils/dataloader.py:65: FutureWarning: The behavior of `series[i:j]` with an integer-dtype index is deprecated. In a future version, this will be treated as *label-based* indexing, consistent with e.g. `series[i]` lookups. To retain the old behavior, use `series.iloc[i:j]`. To get the future behavior, use `series.loc[i:j]`.\n",
      "  traj['gaps'] = [np.mean(1*t.gaps[i:i+resolution]) for i in range(len(t)) if i%resolution==0]\n",
      "/home/anupkumar/egalaxy/birdl/BirdDL/utils/dataloader.py:66: FutureWarning: The behavior of `series[i:j]` with an integer-dtype index is deprecated. In a future version, this will be treated as *label-based* indexing, consistent with e.g. `series[i]` lookups. To retain the old behavior, use `series.iloc[i:j]`. To get the future behavior, use `series.loc[i:j]`.\n",
      "  traj['dive'] = [np.max(t.dive[i:i+resolution]) for i in range(len(t)) if i%resolution==0]\n",
      "/home/anupkumar/egalaxy/birdl/BirdDL/utils/dataloader.py:73: FutureWarning: The frame.append method is deprecated and will be removed from pandas in a future version. Use pandas.concat instead.\n",
      "  data_new = data_new.append(traj, ignore_index=True)\n",
      "/home/anupkumar/egalaxy/birdl/BirdDL/utils/dataloader.py:65: FutureWarning: The behavior of `series[i:j]` with an integer-dtype index is deprecated. In a future version, this will be treated as *label-based* indexing, consistent with e.g. `series[i]` lookups. To retain the old behavior, use `series.iloc[i:j]`. To get the future behavior, use `series.loc[i:j]`.\n",
      "  traj['gaps'] = [np.mean(1*t.gaps[i:i+resolution]) for i in range(len(t)) if i%resolution==0]\n",
      "/home/anupkumar/egalaxy/birdl/BirdDL/utils/dataloader.py:66: FutureWarning: The behavior of `series[i:j]` with an integer-dtype index is deprecated. In a future version, this will be treated as *label-based* indexing, consistent with e.g. `series[i]` lookups. To retain the old behavior, use `series.iloc[i:j]`. To get the future behavior, use `series.loc[i:j]`.\n",
      "  traj['dive'] = [np.max(t.dive[i:i+resolution]) for i in range(len(t)) if i%resolution==0]\n",
      "/home/anupkumar/egalaxy/birdl/BirdDL/utils/dataloader.py:73: FutureWarning: The frame.append method is deprecated and will be removed from pandas in a future version. Use pandas.concat instead.\n",
      "  data_new = data_new.append(traj, ignore_index=True)\n",
      "/home/anupkumar/egalaxy/birdl/BirdDL/utils/dataloader.py:65: FutureWarning: The behavior of `series[i:j]` with an integer-dtype index is deprecated. In a future version, this will be treated as *label-based* indexing, consistent with e.g. `series[i]` lookups. To retain the old behavior, use `series.iloc[i:j]`. To get the future behavior, use `series.loc[i:j]`.\n",
      "  traj['gaps'] = [np.mean(1*t.gaps[i:i+resolution]) for i in range(len(t)) if i%resolution==0]\n",
      "/home/anupkumar/egalaxy/birdl/BirdDL/utils/dataloader.py:66: FutureWarning: The behavior of `series[i:j]` with an integer-dtype index is deprecated. In a future version, this will be treated as *label-based* indexing, consistent with e.g. `series[i]` lookups. To retain the old behavior, use `series.iloc[i:j]`. To get the future behavior, use `series.loc[i:j]`.\n",
      "  traj['dive'] = [np.max(t.dive[i:i+resolution]) for i in range(len(t)) if i%resolution==0]\n",
      "/home/anupkumar/egalaxy/birdl/BirdDL/utils/dataloader.py:73: FutureWarning: The frame.append method is deprecated and will be removed from pandas in a future version. Use pandas.concat instead.\n",
      "  data_new = data_new.append(traj, ignore_index=True)\n",
      "/home/anupkumar/egalaxy/birdl/BirdDL/utils/dataloader.py:65: FutureWarning: The behavior of `series[i:j]` with an integer-dtype index is deprecated. In a future version, this will be treated as *label-based* indexing, consistent with e.g. `series[i]` lookups. To retain the old behavior, use `series.iloc[i:j]`. To get the future behavior, use `series.loc[i:j]`.\n",
      "  traj['gaps'] = [np.mean(1*t.gaps[i:i+resolution]) for i in range(len(t)) if i%resolution==0]\n",
      "/home/anupkumar/egalaxy/birdl/BirdDL/utils/dataloader.py:66: FutureWarning: The behavior of `series[i:j]` with an integer-dtype index is deprecated. In a future version, this will be treated as *label-based* indexing, consistent with e.g. `series[i]` lookups. To retain the old behavior, use `series.iloc[i:j]`. To get the future behavior, use `series.loc[i:j]`.\n",
      "  traj['dive'] = [np.max(t.dive[i:i+resolution]) for i in range(len(t)) if i%resolution==0]\n",
      "/home/anupkumar/egalaxy/birdl/BirdDL/utils/dataloader.py:73: FutureWarning: The frame.append method is deprecated and will be removed from pandas in a future version. Use pandas.concat instead.\n",
      "  data_new = data_new.append(traj, ignore_index=True)\n",
      "/home/anupkumar/egalaxy/birdl/BirdDL/utils/dataloader.py:65: FutureWarning: The behavior of `series[i:j]` with an integer-dtype index is deprecated. In a future version, this will be treated as *label-based* indexing, consistent with e.g. `series[i]` lookups. To retain the old behavior, use `series.iloc[i:j]`. To get the future behavior, use `series.loc[i:j]`.\n",
      "  traj['gaps'] = [np.mean(1*t.gaps[i:i+resolution]) for i in range(len(t)) if i%resolution==0]\n",
      "/home/anupkumar/egalaxy/birdl/BirdDL/utils/dataloader.py:66: FutureWarning: The behavior of `series[i:j]` with an integer-dtype index is deprecated. In a future version, this will be treated as *label-based* indexing, consistent with e.g. `series[i]` lookups. To retain the old behavior, use `series.iloc[i:j]`. To get the future behavior, use `series.loc[i:j]`.\n",
      "  traj['dive'] = [np.max(t.dive[i:i+resolution]) for i in range(len(t)) if i%resolution==0]\n",
      "/home/anupkumar/egalaxy/birdl/BirdDL/utils/dataloader.py:73: FutureWarning: The frame.append method is deprecated and will be removed from pandas in a future version. Use pandas.concat instead.\n",
      "  data_new = data_new.append(traj, ignore_index=True)\n",
      "/home/anupkumar/egalaxy/birdl/BirdDL/utils/dataloader.py:65: FutureWarning: The behavior of `series[i:j]` with an integer-dtype index is deprecated. In a future version, this will be treated as *label-based* indexing, consistent with e.g. `series[i]` lookups. To retain the old behavior, use `series.iloc[i:j]`. To get the future behavior, use `series.loc[i:j]`.\n",
      "  traj['gaps'] = [np.mean(1*t.gaps[i:i+resolution]) for i in range(len(t)) if i%resolution==0]\n",
      "/home/anupkumar/egalaxy/birdl/BirdDL/utils/dataloader.py:66: FutureWarning: The behavior of `series[i:j]` with an integer-dtype index is deprecated. In a future version, this will be treated as *label-based* indexing, consistent with e.g. `series[i]` lookups. To retain the old behavior, use `series.iloc[i:j]`. To get the future behavior, use `series.loc[i:j]`.\n",
      "  traj['dive'] = [np.max(t.dive[i:i+resolution]) for i in range(len(t)) if i%resolution==0]\n",
      "/home/anupkumar/egalaxy/birdl/BirdDL/utils/dataloader.py:73: FutureWarning: The frame.append method is deprecated and will be removed from pandas in a future version. Use pandas.concat instead.\n",
      "  data_new = data_new.append(traj, ignore_index=True)\n",
      "/home/anupkumar/egalaxy/birdl/BirdDL/utils/dataloader.py:65: FutureWarning: The behavior of `series[i:j]` with an integer-dtype index is deprecated. In a future version, this will be treated as *label-based* indexing, consistent with e.g. `series[i]` lookups. To retain the old behavior, use `series.iloc[i:j]`. To get the future behavior, use `series.loc[i:j]`.\n",
      "  traj['gaps'] = [np.mean(1*t.gaps[i:i+resolution]) for i in range(len(t)) if i%resolution==0]\n",
      "/home/anupkumar/egalaxy/birdl/BirdDL/utils/dataloader.py:66: FutureWarning: The behavior of `series[i:j]` with an integer-dtype index is deprecated. In a future version, this will be treated as *label-based* indexing, consistent with e.g. `series[i]` lookups. To retain the old behavior, use `series.iloc[i:j]`. To get the future behavior, use `series.loc[i:j]`.\n",
      "  traj['dive'] = [np.max(t.dive[i:i+resolution]) for i in range(len(t)) if i%resolution==0]\n",
      "/home/anupkumar/egalaxy/birdl/BirdDL/utils/dataloader.py:73: FutureWarning: The frame.append method is deprecated and will be removed from pandas in a future version. Use pandas.concat instead.\n",
      "  data_new = data_new.append(traj, ignore_index=True)\n",
      "/home/anupkumar/egalaxy/birdl/BirdDL/utils/dataloader.py:65: FutureWarning: The behavior of `series[i:j]` with an integer-dtype index is deprecated. In a future version, this will be treated as *label-based* indexing, consistent with e.g. `series[i]` lookups. To retain the old behavior, use `series.iloc[i:j]`. To get the future behavior, use `series.loc[i:j]`.\n",
      "  traj['gaps'] = [np.mean(1*t.gaps[i:i+resolution]) for i in range(len(t)) if i%resolution==0]\n",
      "/home/anupkumar/egalaxy/birdl/BirdDL/utils/dataloader.py:66: FutureWarning: The behavior of `series[i:j]` with an integer-dtype index is deprecated. In a future version, this will be treated as *label-based* indexing, consistent with e.g. `series[i]` lookups. To retain the old behavior, use `series.iloc[i:j]`. To get the future behavior, use `series.loc[i:j]`.\n",
      "  traj['dive'] = [np.max(t.dive[i:i+resolution]) for i in range(len(t)) if i%resolution==0]\n",
      "/home/anupkumar/egalaxy/birdl/BirdDL/utils/dataloader.py:73: FutureWarning: The frame.append method is deprecated and will be removed from pandas in a future version. Use pandas.concat instead.\n",
      "  data_new = data_new.append(traj, ignore_index=True)\n",
      "/home/anupkumar/egalaxy/birdl/BirdDL/utils/dataloader.py:65: FutureWarning: The behavior of `series[i:j]` with an integer-dtype index is deprecated. In a future version, this will be treated as *label-based* indexing, consistent with e.g. `series[i]` lookups. To retain the old behavior, use `series.iloc[i:j]`. To get the future behavior, use `series.loc[i:j]`.\n",
      "  traj['gaps'] = [np.mean(1*t.gaps[i:i+resolution]) for i in range(len(t)) if i%resolution==0]\n",
      "/home/anupkumar/egalaxy/birdl/BirdDL/utils/dataloader.py:66: FutureWarning: The behavior of `series[i:j]` with an integer-dtype index is deprecated. In a future version, this will be treated as *label-based* indexing, consistent with e.g. `series[i]` lookups. To retain the old behavior, use `series.iloc[i:j]`. To get the future behavior, use `series.loc[i:j]`.\n",
      "  traj['dive'] = [np.max(t.dive[i:i+resolution]) for i in range(len(t)) if i%resolution==0]\n",
      "/home/anupkumar/egalaxy/birdl/BirdDL/utils/dataloader.py:73: FutureWarning: The frame.append method is deprecated and will be removed from pandas in a future version. Use pandas.concat instead.\n",
      "  data_new = data_new.append(traj, ignore_index=True)\n",
      "/home/anupkumar/egalaxy/birdl/BirdDL/utils/dataloader.py:65: FutureWarning: The behavior of `series[i:j]` with an integer-dtype index is deprecated. In a future version, this will be treated as *label-based* indexing, consistent with e.g. `series[i]` lookups. To retain the old behavior, use `series.iloc[i:j]`. To get the future behavior, use `series.loc[i:j]`.\n",
      "  traj['gaps'] = [np.mean(1*t.gaps[i:i+resolution]) for i in range(len(t)) if i%resolution==0]\n",
      "/home/anupkumar/egalaxy/birdl/BirdDL/utils/dataloader.py:66: FutureWarning: The behavior of `series[i:j]` with an integer-dtype index is deprecated. In a future version, this will be treated as *label-based* indexing, consistent with e.g. `series[i]` lookups. To retain the old behavior, use `series.iloc[i:j]`. To get the future behavior, use `series.loc[i:j]`.\n",
      "  traj['dive'] = [np.max(t.dive[i:i+resolution]) for i in range(len(t)) if i%resolution==0]\n",
      "/home/anupkumar/egalaxy/birdl/BirdDL/utils/dataloader.py:73: FutureWarning: The frame.append method is deprecated and will be removed from pandas in a future version. Use pandas.concat instead.\n",
      "  data_new = data_new.append(traj, ignore_index=True)\n",
      "/home/anupkumar/egalaxy/birdl/BirdDL/utils/dataloader.py:65: FutureWarning: The behavior of `series[i:j]` with an integer-dtype index is deprecated. In a future version, this will be treated as *label-based* indexing, consistent with e.g. `series[i]` lookups. To retain the old behavior, use `series.iloc[i:j]`. To get the future behavior, use `series.loc[i:j]`.\n",
      "  traj['gaps'] = [np.mean(1*t.gaps[i:i+resolution]) for i in range(len(t)) if i%resolution==0]\n",
      "/home/anupkumar/egalaxy/birdl/BirdDL/utils/dataloader.py:66: FutureWarning: The behavior of `series[i:j]` with an integer-dtype index is deprecated. In a future version, this will be treated as *label-based* indexing, consistent with e.g. `series[i]` lookups. To retain the old behavior, use `series.iloc[i:j]`. To get the future behavior, use `series.loc[i:j]`.\n",
      "  traj['dive'] = [np.max(t.dive[i:i+resolution]) for i in range(len(t)) if i%resolution==0]\n",
      "/home/anupkumar/egalaxy/birdl/BirdDL/utils/dataloader.py:73: FutureWarning: The frame.append method is deprecated and will be removed from pandas in a future version. Use pandas.concat instead.\n",
      "  data_new = data_new.append(traj, ignore_index=True)\n",
      "/home/anupkumar/egalaxy/birdl/BirdDL/utils/dataloader.py:65: FutureWarning: The behavior of `series[i:j]` with an integer-dtype index is deprecated. In a future version, this will be treated as *label-based* indexing, consistent with e.g. `series[i]` lookups. To retain the old behavior, use `series.iloc[i:j]`. To get the future behavior, use `series.loc[i:j]`.\n",
      "  traj['gaps'] = [np.mean(1*t.gaps[i:i+resolution]) for i in range(len(t)) if i%resolution==0]\n",
      "/home/anupkumar/egalaxy/birdl/BirdDL/utils/dataloader.py:66: FutureWarning: The behavior of `series[i:j]` with an integer-dtype index is deprecated. In a future version, this will be treated as *label-based* indexing, consistent with e.g. `series[i]` lookups. To retain the old behavior, use `series.iloc[i:j]`. To get the future behavior, use `series.loc[i:j]`.\n",
      "  traj['dive'] = [np.max(t.dive[i:i+resolution]) for i in range(len(t)) if i%resolution==0]\n",
      "/home/anupkumar/egalaxy/birdl/BirdDL/utils/dataloader.py:73: FutureWarning: The frame.append method is deprecated and will be removed from pandas in a future version. Use pandas.concat instead.\n",
      "  data_new = data_new.append(traj, ignore_index=True)\n",
      "/home/anupkumar/egalaxy/birdl/BirdDL/utils/dataloader.py:65: FutureWarning: The behavior of `series[i:j]` with an integer-dtype index is deprecated. In a future version, this will be treated as *label-based* indexing, consistent with e.g. `series[i]` lookups. To retain the old behavior, use `series.iloc[i:j]`. To get the future behavior, use `series.loc[i:j]`.\n",
      "  traj['gaps'] = [np.mean(1*t.gaps[i:i+resolution]) for i in range(len(t)) if i%resolution==0]\n",
      "/home/anupkumar/egalaxy/birdl/BirdDL/utils/dataloader.py:66: FutureWarning: The behavior of `series[i:j]` with an integer-dtype index is deprecated. In a future version, this will be treated as *label-based* indexing, consistent with e.g. `series[i]` lookups. To retain the old behavior, use `series.iloc[i:j]`. To get the future behavior, use `series.loc[i:j]`.\n",
      "  traj['dive'] = [np.max(t.dive[i:i+resolution]) for i in range(len(t)) if i%resolution==0]\n",
      "/home/anupkumar/egalaxy/birdl/BirdDL/utils/dataloader.py:73: FutureWarning: The frame.append method is deprecated and will be removed from pandas in a future version. Use pandas.concat instead.\n",
      "  data_new = data_new.append(traj, ignore_index=True)\n",
      "/home/anupkumar/egalaxy/birdl/BirdDL/utils/dataloader.py:65: FutureWarning: The behavior of `series[i:j]` with an integer-dtype index is deprecated. In a future version, this will be treated as *label-based* indexing, consistent with e.g. `series[i]` lookups. To retain the old behavior, use `series.iloc[i:j]`. To get the future behavior, use `series.loc[i:j]`.\n",
      "  traj['gaps'] = [np.mean(1*t.gaps[i:i+resolution]) for i in range(len(t)) if i%resolution==0]\n",
      "/home/anupkumar/egalaxy/birdl/BirdDL/utils/dataloader.py:66: FutureWarning: The behavior of `series[i:j]` with an integer-dtype index is deprecated. In a future version, this will be treated as *label-based* indexing, consistent with e.g. `series[i]` lookups. To retain the old behavior, use `series.iloc[i:j]`. To get the future behavior, use `series.loc[i:j]`.\n",
      "  traj['dive'] = [np.max(t.dive[i:i+resolution]) for i in range(len(t)) if i%resolution==0]\n",
      "/home/anupkumar/egalaxy/birdl/BirdDL/utils/dataloader.py:73: FutureWarning: The frame.append method is deprecated and will be removed from pandas in a future version. Use pandas.concat instead.\n",
      "  data_new = data_new.append(traj, ignore_index=True)\n",
      "/home/anupkumar/egalaxy/birdl/BirdDL/utils/dataloader.py:65: FutureWarning: The behavior of `series[i:j]` with an integer-dtype index is deprecated. In a future version, this will be treated as *label-based* indexing, consistent with e.g. `series[i]` lookups. To retain the old behavior, use `series.iloc[i:j]`. To get the future behavior, use `series.loc[i:j]`.\n",
      "  traj['gaps'] = [np.mean(1*t.gaps[i:i+resolution]) for i in range(len(t)) if i%resolution==0]\n",
      "/home/anupkumar/egalaxy/birdl/BirdDL/utils/dataloader.py:66: FutureWarning: The behavior of `series[i:j]` with an integer-dtype index is deprecated. In a future version, this will be treated as *label-based* indexing, consistent with e.g. `series[i]` lookups. To retain the old behavior, use `series.iloc[i:j]`. To get the future behavior, use `series.loc[i:j]`.\n",
      "  traj['dive'] = [np.max(t.dive[i:i+resolution]) for i in range(len(t)) if i%resolution==0]\n",
      "/home/anupkumar/egalaxy/birdl/BirdDL/utils/dataloader.py:73: FutureWarning: The frame.append method is deprecated and will be removed from pandas in a future version. Use pandas.concat instead.\n",
      "  data_new = data_new.append(traj, ignore_index=True)\n",
      "/home/anupkumar/egalaxy/birdl/BirdDL/utils/dataloader.py:65: FutureWarning: The behavior of `series[i:j]` with an integer-dtype index is deprecated. In a future version, this will be treated as *label-based* indexing, consistent with e.g. `series[i]` lookups. To retain the old behavior, use `series.iloc[i:j]`. To get the future behavior, use `series.loc[i:j]`.\n",
      "  traj['gaps'] = [np.mean(1*t.gaps[i:i+resolution]) for i in range(len(t)) if i%resolution==0]\n",
      "/home/anupkumar/egalaxy/birdl/BirdDL/utils/dataloader.py:66: FutureWarning: The behavior of `series[i:j]` with an integer-dtype index is deprecated. In a future version, this will be treated as *label-based* indexing, consistent with e.g. `series[i]` lookups. To retain the old behavior, use `series.iloc[i:j]`. To get the future behavior, use `series.loc[i:j]`.\n",
      "  traj['dive'] = [np.max(t.dive[i:i+resolution]) for i in range(len(t)) if i%resolution==0]\n",
      "/home/anupkumar/egalaxy/birdl/BirdDL/utils/dataloader.py:73: FutureWarning: The frame.append method is deprecated and will be removed from pandas in a future version. Use pandas.concat instead.\n",
      "  data_new = data_new.append(traj, ignore_index=True)\n",
      "/home/anupkumar/egalaxy/birdl/BirdDL/utils/dataloader.py:65: FutureWarning: The behavior of `series[i:j]` with an integer-dtype index is deprecated. In a future version, this will be treated as *label-based* indexing, consistent with e.g. `series[i]` lookups. To retain the old behavior, use `series.iloc[i:j]`. To get the future behavior, use `series.loc[i:j]`.\n",
      "  traj['gaps'] = [np.mean(1*t.gaps[i:i+resolution]) for i in range(len(t)) if i%resolution==0]\n",
      "/home/anupkumar/egalaxy/birdl/BirdDL/utils/dataloader.py:66: FutureWarning: The behavior of `series[i:j]` with an integer-dtype index is deprecated. In a future version, this will be treated as *label-based* indexing, consistent with e.g. `series[i]` lookups. To retain the old behavior, use `series.iloc[i:j]`. To get the future behavior, use `series.loc[i:j]`.\n",
      "  traj['dive'] = [np.max(t.dive[i:i+resolution]) for i in range(len(t)) if i%resolution==0]\n",
      "/home/anupkumar/egalaxy/birdl/BirdDL/utils/dataloader.py:73: FutureWarning: The frame.append method is deprecated and will be removed from pandas in a future version. Use pandas.concat instead.\n",
      "  data_new = data_new.append(traj, ignore_index=True)\n",
      "/home/anupkumar/egalaxy/birdl/BirdDL/utils/dataloader.py:65: FutureWarning: The behavior of `series[i:j]` with an integer-dtype index is deprecated. In a future version, this will be treated as *label-based* indexing, consistent with e.g. `series[i]` lookups. To retain the old behavior, use `series.iloc[i:j]`. To get the future behavior, use `series.loc[i:j]`.\n",
      "  traj['gaps'] = [np.mean(1*t.gaps[i:i+resolution]) for i in range(len(t)) if i%resolution==0]\n",
      "/home/anupkumar/egalaxy/birdl/BirdDL/utils/dataloader.py:66: FutureWarning: The behavior of `series[i:j]` with an integer-dtype index is deprecated. In a future version, this will be treated as *label-based* indexing, consistent with e.g. `series[i]` lookups. To retain the old behavior, use `series.iloc[i:j]`. To get the future behavior, use `series.loc[i:j]`.\n",
      "  traj['dive'] = [np.max(t.dive[i:i+resolution]) for i in range(len(t)) if i%resolution==0]\n",
      "/home/anupkumar/egalaxy/birdl/BirdDL/utils/dataloader.py:73: FutureWarning: The frame.append method is deprecated and will be removed from pandas in a future version. Use pandas.concat instead.\n",
      "  data_new = data_new.append(traj, ignore_index=True)\n",
      "/home/anupkumar/egalaxy/birdl/BirdDL/utils/dataloader.py:65: FutureWarning: The behavior of `series[i:j]` with an integer-dtype index is deprecated. In a future version, this will be treated as *label-based* indexing, consistent with e.g. `series[i]` lookups. To retain the old behavior, use `series.iloc[i:j]`. To get the future behavior, use `series.loc[i:j]`.\n",
      "  traj['gaps'] = [np.mean(1*t.gaps[i:i+resolution]) for i in range(len(t)) if i%resolution==0]\n",
      "/home/anupkumar/egalaxy/birdl/BirdDL/utils/dataloader.py:66: FutureWarning: The behavior of `series[i:j]` with an integer-dtype index is deprecated. In a future version, this will be treated as *label-based* indexing, consistent with e.g. `series[i]` lookups. To retain the old behavior, use `series.iloc[i:j]`. To get the future behavior, use `series.loc[i:j]`.\n",
      "  traj['dive'] = [np.max(t.dive[i:i+resolution]) for i in range(len(t)) if i%resolution==0]\n",
      "/home/anupkumar/egalaxy/birdl/BirdDL/utils/dataloader.py:73: FutureWarning: The frame.append method is deprecated and will be removed from pandas in a future version. Use pandas.concat instead.\n",
      "  data_new = data_new.append(traj, ignore_index=True)\n",
      "/home/anupkumar/egalaxy/birdl/BirdDL/utils/dataloader.py:65: FutureWarning: The behavior of `series[i:j]` with an integer-dtype index is deprecated. In a future version, this will be treated as *label-based* indexing, consistent with e.g. `series[i]` lookups. To retain the old behavior, use `series.iloc[i:j]`. To get the future behavior, use `series.loc[i:j]`.\n",
      "  traj['gaps'] = [np.mean(1*t.gaps[i:i+resolution]) for i in range(len(t)) if i%resolution==0]\n",
      "/home/anupkumar/egalaxy/birdl/BirdDL/utils/dataloader.py:66: FutureWarning: The behavior of `series[i:j]` with an integer-dtype index is deprecated. In a future version, this will be treated as *label-based* indexing, consistent with e.g. `series[i]` lookups. To retain the old behavior, use `series.iloc[i:j]`. To get the future behavior, use `series.loc[i:j]`.\n",
      "  traj['dive'] = [np.max(t.dive[i:i+resolution]) for i in range(len(t)) if i%resolution==0]\n",
      "/home/anupkumar/egalaxy/birdl/BirdDL/utils/dataloader.py:73: FutureWarning: The frame.append method is deprecated and will be removed from pandas in a future version. Use pandas.concat instead.\n",
      "  data_new = data_new.append(traj, ignore_index=True)\n",
      "/home/anupkumar/egalaxy/birdl/BirdDL/utils/dataloader.py:65: FutureWarning: The behavior of `series[i:j]` with an integer-dtype index is deprecated. In a future version, this will be treated as *label-based* indexing, consistent with e.g. `series[i]` lookups. To retain the old behavior, use `series.iloc[i:j]`. To get the future behavior, use `series.loc[i:j]`.\n",
      "  traj['gaps'] = [np.mean(1*t.gaps[i:i+resolution]) for i in range(len(t)) if i%resolution==0]\n",
      "/home/anupkumar/egalaxy/birdl/BirdDL/utils/dataloader.py:66: FutureWarning: The behavior of `series[i:j]` with an integer-dtype index is deprecated. In a future version, this will be treated as *label-based* indexing, consistent with e.g. `series[i]` lookups. To retain the old behavior, use `series.iloc[i:j]`. To get the future behavior, use `series.loc[i:j]`.\n",
      "  traj['dive'] = [np.max(t.dive[i:i+resolution]) for i in range(len(t)) if i%resolution==0]\n",
      "/home/anupkumar/egalaxy/birdl/BirdDL/utils/dataloader.py:73: FutureWarning: The frame.append method is deprecated and will be removed from pandas in a future version. Use pandas.concat instead.\n",
      "  data_new = data_new.append(traj, ignore_index=True)\n",
      "/home/anupkumar/egalaxy/birdl/BirdDL/utils/dataloader.py:65: FutureWarning: The behavior of `series[i:j]` with an integer-dtype index is deprecated. In a future version, this will be treated as *label-based* indexing, consistent with e.g. `series[i]` lookups. To retain the old behavior, use `series.iloc[i:j]`. To get the future behavior, use `series.loc[i:j]`.\n",
      "  traj['gaps'] = [np.mean(1*t.gaps[i:i+resolution]) for i in range(len(t)) if i%resolution==0]\n",
      "/home/anupkumar/egalaxy/birdl/BirdDL/utils/dataloader.py:66: FutureWarning: The behavior of `series[i:j]` with an integer-dtype index is deprecated. In a future version, this will be treated as *label-based* indexing, consistent with e.g. `series[i]` lookups. To retain the old behavior, use `series.iloc[i:j]`. To get the future behavior, use `series.loc[i:j]`.\n",
      "  traj['dive'] = [np.max(t.dive[i:i+resolution]) for i in range(len(t)) if i%resolution==0]\n",
      "/home/anupkumar/egalaxy/birdl/BirdDL/utils/dataloader.py:73: FutureWarning: The frame.append method is deprecated and will be removed from pandas in a future version. Use pandas.concat instead.\n",
      "  data_new = data_new.append(traj, ignore_index=True)\n",
      "/home/anupkumar/egalaxy/birdl/BirdDL/utils/dataloader.py:65: FutureWarning: The behavior of `series[i:j]` with an integer-dtype index is deprecated. In a future version, this will be treated as *label-based* indexing, consistent with e.g. `series[i]` lookups. To retain the old behavior, use `series.iloc[i:j]`. To get the future behavior, use `series.loc[i:j]`.\n",
      "  traj['gaps'] = [np.mean(1*t.gaps[i:i+resolution]) for i in range(len(t)) if i%resolution==0]\n",
      "/home/anupkumar/egalaxy/birdl/BirdDL/utils/dataloader.py:66: FutureWarning: The behavior of `series[i:j]` with an integer-dtype index is deprecated. In a future version, this will be treated as *label-based* indexing, consistent with e.g. `series[i]` lookups. To retain the old behavior, use `series.iloc[i:j]`. To get the future behavior, use `series.loc[i:j]`.\n",
      "  traj['dive'] = [np.max(t.dive[i:i+resolution]) for i in range(len(t)) if i%resolution==0]\n",
      "/home/anupkumar/egalaxy/birdl/BirdDL/utils/dataloader.py:73: FutureWarning: The frame.append method is deprecated and will be removed from pandas in a future version. Use pandas.concat instead.\n",
      "  data_new = data_new.append(traj, ignore_index=True)\n",
      "/home/anupkumar/egalaxy/birdl/BirdDL/utils/dataloader.py:65: FutureWarning: The behavior of `series[i:j]` with an integer-dtype index is deprecated. In a future version, this will be treated as *label-based* indexing, consistent with e.g. `series[i]` lookups. To retain the old behavior, use `series.iloc[i:j]`. To get the future behavior, use `series.loc[i:j]`.\n",
      "  traj['gaps'] = [np.mean(1*t.gaps[i:i+resolution]) for i in range(len(t)) if i%resolution==0]\n",
      "/home/anupkumar/egalaxy/birdl/BirdDL/utils/dataloader.py:66: FutureWarning: The behavior of `series[i:j]` with an integer-dtype index is deprecated. In a future version, this will be treated as *label-based* indexing, consistent with e.g. `series[i]` lookups. To retain the old behavior, use `series.iloc[i:j]`. To get the future behavior, use `series.loc[i:j]`.\n",
      "  traj['dive'] = [np.max(t.dive[i:i+resolution]) for i in range(len(t)) if i%resolution==0]\n",
      "/home/anupkumar/egalaxy/birdl/BirdDL/utils/dataloader.py:73: FutureWarning: The frame.append method is deprecated and will be removed from pandas in a future version. Use pandas.concat instead.\n",
      "  data_new = data_new.append(traj, ignore_index=True)\n",
      "/home/anupkumar/egalaxy/birdl/BirdDL/utils/dataloader.py:73: FutureWarning: The frame.append method is deprecated and will be removed from pandas in a future version. Use pandas.concat instead.\n",
      "  data_new = data_new.append(traj, ignore_index=True)\n",
      "/home/anupkumar/egalaxy/birdl/BirdDL/utils/dataloader.py:65: FutureWarning: The behavior of `series[i:j]` with an integer-dtype index is deprecated. In a future version, this will be treated as *label-based* indexing, consistent with e.g. `series[i]` lookups. To retain the old behavior, use `series.iloc[i:j]`. To get the future behavior, use `series.loc[i:j]`.\n",
      "  traj['gaps'] = [np.mean(1*t.gaps[i:i+resolution]) for i in range(len(t)) if i%resolution==0]\n",
      "/home/anupkumar/egalaxy/birdl/BirdDL/utils/dataloader.py:66: FutureWarning: The behavior of `series[i:j]` with an integer-dtype index is deprecated. In a future version, this will be treated as *label-based* indexing, consistent with e.g. `series[i]` lookups. To retain the old behavior, use `series.iloc[i:j]`. To get the future behavior, use `series.loc[i:j]`.\n",
      "  traj['dive'] = [np.max(t.dive[i:i+resolution]) for i in range(len(t)) if i%resolution==0]\n",
      "/home/anupkumar/egalaxy/birdl/BirdDL/utils/dataloader.py:73: FutureWarning: The frame.append method is deprecated and will be removed from pandas in a future version. Use pandas.concat instead.\n",
      "  data_new = data_new.append(traj, ignore_index=True)\n",
      "/home/anupkumar/egalaxy/birdl/BirdDL/utils/dataloader.py:65: FutureWarning: The behavior of `series[i:j]` with an integer-dtype index is deprecated. In a future version, this will be treated as *label-based* indexing, consistent with e.g. `series[i]` lookups. To retain the old behavior, use `series.iloc[i:j]`. To get the future behavior, use `series.loc[i:j]`.\n",
      "  traj['gaps'] = [np.mean(1*t.gaps[i:i+resolution]) for i in range(len(t)) if i%resolution==0]\n",
      "/home/anupkumar/egalaxy/birdl/BirdDL/utils/dataloader.py:66: FutureWarning: The behavior of `series[i:j]` with an integer-dtype index is deprecated. In a future version, this will be treated as *label-based* indexing, consistent with e.g. `series[i]` lookups. To retain the old behavior, use `series.iloc[i:j]`. To get the future behavior, use `series.loc[i:j]`.\n",
      "  traj['dive'] = [np.max(t.dive[i:i+resolution]) for i in range(len(t)) if i%resolution==0]\n",
      "/home/anupkumar/egalaxy/birdl/BirdDL/utils/dataloader.py:73: FutureWarning: The frame.append method is deprecated and will be removed from pandas in a future version. Use pandas.concat instead.\n",
      "  data_new = data_new.append(traj, ignore_index=True)\n",
      "/home/anupkumar/egalaxy/birdl/BirdDL/utils/dataloader.py:65: FutureWarning: The behavior of `series[i:j]` with an integer-dtype index is deprecated. In a future version, this will be treated as *label-based* indexing, consistent with e.g. `series[i]` lookups. To retain the old behavior, use `series.iloc[i:j]`. To get the future behavior, use `series.loc[i:j]`.\n",
      "  traj['gaps'] = [np.mean(1*t.gaps[i:i+resolution]) for i in range(len(t)) if i%resolution==0]\n",
      "/home/anupkumar/egalaxy/birdl/BirdDL/utils/dataloader.py:66: FutureWarning: The behavior of `series[i:j]` with an integer-dtype index is deprecated. In a future version, this will be treated as *label-based* indexing, consistent with e.g. `series[i]` lookups. To retain the old behavior, use `series.iloc[i:j]`. To get the future behavior, use `series.loc[i:j]`.\n",
      "  traj['dive'] = [np.max(t.dive[i:i+resolution]) for i in range(len(t)) if i%resolution==0]\n",
      "/home/anupkumar/egalaxy/birdl/BirdDL/utils/dataloader.py:73: FutureWarning: The frame.append method is deprecated and will be removed from pandas in a future version. Use pandas.concat instead.\n",
      "  data_new = data_new.append(traj, ignore_index=True)\n",
      "/home/anupkumar/egalaxy/birdl/BirdDL/utils/dataloader.py:65: FutureWarning: The behavior of `series[i:j]` with an integer-dtype index is deprecated. In a future version, this will be treated as *label-based* indexing, consistent with e.g. `series[i]` lookups. To retain the old behavior, use `series.iloc[i:j]`. To get the future behavior, use `series.loc[i:j]`.\n",
      "  traj['gaps'] = [np.mean(1*t.gaps[i:i+resolution]) for i in range(len(t)) if i%resolution==0]\n",
      "/home/anupkumar/egalaxy/birdl/BirdDL/utils/dataloader.py:66: FutureWarning: The behavior of `series[i:j]` with an integer-dtype index is deprecated. In a future version, this will be treated as *label-based* indexing, consistent with e.g. `series[i]` lookups. To retain the old behavior, use `series.iloc[i:j]`. To get the future behavior, use `series.loc[i:j]`.\n",
      "  traj['dive'] = [np.max(t.dive[i:i+resolution]) for i in range(len(t)) if i%resolution==0]\n",
      "/home/anupkumar/egalaxy/birdl/BirdDL/utils/dataloader.py:73: FutureWarning: The frame.append method is deprecated and will be removed from pandas in a future version. Use pandas.concat instead.\n",
      "  data_new = data_new.append(traj, ignore_index=True)\n",
      "/home/anupkumar/egalaxy/birdl/BirdDL/utils/dataloader.py:65: FutureWarning: The behavior of `series[i:j]` with an integer-dtype index is deprecated. In a future version, this will be treated as *label-based* indexing, consistent with e.g. `series[i]` lookups. To retain the old behavior, use `series.iloc[i:j]`. To get the future behavior, use `series.loc[i:j]`.\n",
      "  traj['gaps'] = [np.mean(1*t.gaps[i:i+resolution]) for i in range(len(t)) if i%resolution==0]\n",
      "/home/anupkumar/egalaxy/birdl/BirdDL/utils/dataloader.py:66: FutureWarning: The behavior of `series[i:j]` with an integer-dtype index is deprecated. In a future version, this will be treated as *label-based* indexing, consistent with e.g. `series[i]` lookups. To retain the old behavior, use `series.iloc[i:j]`. To get the future behavior, use `series.loc[i:j]`.\n",
      "  traj['dive'] = [np.max(t.dive[i:i+resolution]) for i in range(len(t)) if i%resolution==0]\n",
      "/home/anupkumar/egalaxy/birdl/BirdDL/utils/dataloader.py:73: FutureWarning: The frame.append method is deprecated and will be removed from pandas in a future version. Use pandas.concat instead.\n",
      "  data_new = data_new.append(traj, ignore_index=True)\n",
      "/home/anupkumar/egalaxy/birdl/BirdDL/utils/dataloader.py:65: FutureWarning: The behavior of `series[i:j]` with an integer-dtype index is deprecated. In a future version, this will be treated as *label-based* indexing, consistent with e.g. `series[i]` lookups. To retain the old behavior, use `series.iloc[i:j]`. To get the future behavior, use `series.loc[i:j]`.\n",
      "  traj['gaps'] = [np.mean(1*t.gaps[i:i+resolution]) for i in range(len(t)) if i%resolution==0]\n",
      "/home/anupkumar/egalaxy/birdl/BirdDL/utils/dataloader.py:66: FutureWarning: The behavior of `series[i:j]` with an integer-dtype index is deprecated. In a future version, this will be treated as *label-based* indexing, consistent with e.g. `series[i]` lookups. To retain the old behavior, use `series.iloc[i:j]`. To get the future behavior, use `series.loc[i:j]`.\n",
      "  traj['dive'] = [np.max(t.dive[i:i+resolution]) for i in range(len(t)) if i%resolution==0]\n",
      "/home/anupkumar/egalaxy/birdl/BirdDL/utils/dataloader.py:73: FutureWarning: The frame.append method is deprecated and will be removed from pandas in a future version. Use pandas.concat instead.\n",
      "  data_new = data_new.append(traj, ignore_index=True)\n",
      "/home/anupkumar/egalaxy/birdl/BirdDL/utils/dataloader.py:65: FutureWarning: The behavior of `series[i:j]` with an integer-dtype index is deprecated. In a future version, this will be treated as *label-based* indexing, consistent with e.g. `series[i]` lookups. To retain the old behavior, use `series.iloc[i:j]`. To get the future behavior, use `series.loc[i:j]`.\n",
      "  traj['gaps'] = [np.mean(1*t.gaps[i:i+resolution]) for i in range(len(t)) if i%resolution==0]\n",
      "/home/anupkumar/egalaxy/birdl/BirdDL/utils/dataloader.py:66: FutureWarning: The behavior of `series[i:j]` with an integer-dtype index is deprecated. In a future version, this will be treated as *label-based* indexing, consistent with e.g. `series[i]` lookups. To retain the old behavior, use `series.iloc[i:j]`. To get the future behavior, use `series.loc[i:j]`.\n",
      "  traj['dive'] = [np.max(t.dive[i:i+resolution]) for i in range(len(t)) if i%resolution==0]\n",
      "/home/anupkumar/egalaxy/birdl/BirdDL/utils/dataloader.py:73: FutureWarning: The frame.append method is deprecated and will be removed from pandas in a future version. Use pandas.concat instead.\n",
      "  data_new = data_new.append(traj, ignore_index=True)\n",
      "/home/anupkumar/egalaxy/birdl/BirdDL/utils/dataloader.py:65: FutureWarning: The behavior of `series[i:j]` with an integer-dtype index is deprecated. In a future version, this will be treated as *label-based* indexing, consistent with e.g. `series[i]` lookups. To retain the old behavior, use `series.iloc[i:j]`. To get the future behavior, use `series.loc[i:j]`.\n",
      "  traj['gaps'] = [np.mean(1*t.gaps[i:i+resolution]) for i in range(len(t)) if i%resolution==0]\n",
      "/home/anupkumar/egalaxy/birdl/BirdDL/utils/dataloader.py:66: FutureWarning: The behavior of `series[i:j]` with an integer-dtype index is deprecated. In a future version, this will be treated as *label-based* indexing, consistent with e.g. `series[i]` lookups. To retain the old behavior, use `series.iloc[i:j]`. To get the future behavior, use `series.loc[i:j]`.\n",
      "  traj['dive'] = [np.max(t.dive[i:i+resolution]) for i in range(len(t)) if i%resolution==0]\n",
      "/home/anupkumar/egalaxy/birdl/BirdDL/utils/dataloader.py:73: FutureWarning: The frame.append method is deprecated and will be removed from pandas in a future version. Use pandas.concat instead.\n",
      "  data_new = data_new.append(traj, ignore_index=True)\n",
      "/home/anupkumar/egalaxy/birdl/BirdDL/utils/dataloader.py:65: FutureWarning: The behavior of `series[i:j]` with an integer-dtype index is deprecated. In a future version, this will be treated as *label-based* indexing, consistent with e.g. `series[i]` lookups. To retain the old behavior, use `series.iloc[i:j]`. To get the future behavior, use `series.loc[i:j]`.\n",
      "  traj['gaps'] = [np.mean(1*t.gaps[i:i+resolution]) for i in range(len(t)) if i%resolution==0]\n",
      "/home/anupkumar/egalaxy/birdl/BirdDL/utils/dataloader.py:66: FutureWarning: The behavior of `series[i:j]` with an integer-dtype index is deprecated. In a future version, this will be treated as *label-based* indexing, consistent with e.g. `series[i]` lookups. To retain the old behavior, use `series.iloc[i:j]`. To get the future behavior, use `series.loc[i:j]`.\n",
      "  traj['dive'] = [np.max(t.dive[i:i+resolution]) for i in range(len(t)) if i%resolution==0]\n",
      "/home/anupkumar/egalaxy/birdl/BirdDL/utils/dataloader.py:73: FutureWarning: The frame.append method is deprecated and will be removed from pandas in a future version. Use pandas.concat instead.\n",
      "  data_new = data_new.append(traj, ignore_index=True)\n",
      "/home/anupkumar/egalaxy/birdl/BirdDL/utils/dataloader.py:65: FutureWarning: The behavior of `series[i:j]` with an integer-dtype index is deprecated. In a future version, this will be treated as *label-based* indexing, consistent with e.g. `series[i]` lookups. To retain the old behavior, use `series.iloc[i:j]`. To get the future behavior, use `series.loc[i:j]`.\n",
      "  traj['gaps'] = [np.mean(1*t.gaps[i:i+resolution]) for i in range(len(t)) if i%resolution==0]\n",
      "/home/anupkumar/egalaxy/birdl/BirdDL/utils/dataloader.py:66: FutureWarning: The behavior of `series[i:j]` with an integer-dtype index is deprecated. In a future version, this will be treated as *label-based* indexing, consistent with e.g. `series[i]` lookups. To retain the old behavior, use `series.iloc[i:j]`. To get the future behavior, use `series.loc[i:j]`.\n",
      "  traj['dive'] = [np.max(t.dive[i:i+resolution]) for i in range(len(t)) if i%resolution==0]\n",
      "/home/anupkumar/egalaxy/birdl/BirdDL/utils/dataloader.py:73: FutureWarning: The frame.append method is deprecated and will be removed from pandas in a future version. Use pandas.concat instead.\n",
      "  data_new = data_new.append(traj, ignore_index=True)\n",
      "/home/anupkumar/egalaxy/birdl/BirdDL/utils/dataloader.py:65: FutureWarning: The behavior of `series[i:j]` with an integer-dtype index is deprecated. In a future version, this will be treated as *label-based* indexing, consistent with e.g. `series[i]` lookups. To retain the old behavior, use `series.iloc[i:j]`. To get the future behavior, use `series.loc[i:j]`.\n",
      "  traj['gaps'] = [np.mean(1*t.gaps[i:i+resolution]) for i in range(len(t)) if i%resolution==0]\n",
      "/home/anupkumar/egalaxy/birdl/BirdDL/utils/dataloader.py:66: FutureWarning: The behavior of `series[i:j]` with an integer-dtype index is deprecated. In a future version, this will be treated as *label-based* indexing, consistent with e.g. `series[i]` lookups. To retain the old behavior, use `series.iloc[i:j]`. To get the future behavior, use `series.loc[i:j]`.\n",
      "  traj['dive'] = [np.max(t.dive[i:i+resolution]) for i in range(len(t)) if i%resolution==0]\n",
      "/home/anupkumar/egalaxy/birdl/BirdDL/utils/dataloader.py:73: FutureWarning: The frame.append method is deprecated and will be removed from pandas in a future version. Use pandas.concat instead.\n",
      "  data_new = data_new.append(traj, ignore_index=True)\n",
      "/home/anupkumar/egalaxy/birdl/BirdDL/utils/dataloader.py:65: FutureWarning: The behavior of `series[i:j]` with an integer-dtype index is deprecated. In a future version, this will be treated as *label-based* indexing, consistent with e.g. `series[i]` lookups. To retain the old behavior, use `series.iloc[i:j]`. To get the future behavior, use `series.loc[i:j]`.\n",
      "  traj['gaps'] = [np.mean(1*t.gaps[i:i+resolution]) for i in range(len(t)) if i%resolution==0]\n",
      "/home/anupkumar/egalaxy/birdl/BirdDL/utils/dataloader.py:66: FutureWarning: The behavior of `series[i:j]` with an integer-dtype index is deprecated. In a future version, this will be treated as *label-based* indexing, consistent with e.g. `series[i]` lookups. To retain the old behavior, use `series.iloc[i:j]`. To get the future behavior, use `series.loc[i:j]`.\n",
      "  traj['dive'] = [np.max(t.dive[i:i+resolution]) for i in range(len(t)) if i%resolution==0]\n",
      "/home/anupkumar/egalaxy/birdl/BirdDL/utils/dataloader.py:73: FutureWarning: The frame.append method is deprecated and will be removed from pandas in a future version. Use pandas.concat instead.\n",
      "  data_new = data_new.append(traj, ignore_index=True)\n",
      "/home/anupkumar/egalaxy/birdl/BirdDL/utils/dataloader.py:65: FutureWarning: The behavior of `series[i:j]` with an integer-dtype index is deprecated. In a future version, this will be treated as *label-based* indexing, consistent with e.g. `series[i]` lookups. To retain the old behavior, use `series.iloc[i:j]`. To get the future behavior, use `series.loc[i:j]`.\n",
      "  traj['gaps'] = [np.mean(1*t.gaps[i:i+resolution]) for i in range(len(t)) if i%resolution==0]\n",
      "/home/anupkumar/egalaxy/birdl/BirdDL/utils/dataloader.py:66: FutureWarning: The behavior of `series[i:j]` with an integer-dtype index is deprecated. In a future version, this will be treated as *label-based* indexing, consistent with e.g. `series[i]` lookups. To retain the old behavior, use `series.iloc[i:j]`. To get the future behavior, use `series.loc[i:j]`.\n",
      "  traj['dive'] = [np.max(t.dive[i:i+resolution]) for i in range(len(t)) if i%resolution==0]\n",
      "/home/anupkumar/egalaxy/birdl/BirdDL/utils/dataloader.py:73: FutureWarning: The frame.append method is deprecated and will be removed from pandas in a future version. Use pandas.concat instead.\n",
      "  data_new = data_new.append(traj, ignore_index=True)\n",
      "/home/anupkumar/egalaxy/birdl/BirdDL/utils/dataloader.py:65: FutureWarning: The behavior of `series[i:j]` with an integer-dtype index is deprecated. In a future version, this will be treated as *label-based* indexing, consistent with e.g. `series[i]` lookups. To retain the old behavior, use `series.iloc[i:j]`. To get the future behavior, use `series.loc[i:j]`.\n",
      "  traj['gaps'] = [np.mean(1*t.gaps[i:i+resolution]) for i in range(len(t)) if i%resolution==0]\n",
      "/home/anupkumar/egalaxy/birdl/BirdDL/utils/dataloader.py:66: FutureWarning: The behavior of `series[i:j]` with an integer-dtype index is deprecated. In a future version, this will be treated as *label-based* indexing, consistent with e.g. `series[i]` lookups. To retain the old behavior, use `series.iloc[i:j]`. To get the future behavior, use `series.loc[i:j]`.\n",
      "  traj['dive'] = [np.max(t.dive[i:i+resolution]) for i in range(len(t)) if i%resolution==0]\n",
      "/home/anupkumar/egalaxy/birdl/BirdDL/utils/dataloader.py:73: FutureWarning: The frame.append method is deprecated and will be removed from pandas in a future version. Use pandas.concat instead.\n",
      "  data_new = data_new.append(traj, ignore_index=True)\n",
      "/home/anupkumar/egalaxy/birdl/BirdDL/utils/dataloader.py:65: FutureWarning: The behavior of `series[i:j]` with an integer-dtype index is deprecated. In a future version, this will be treated as *label-based* indexing, consistent with e.g. `series[i]` lookups. To retain the old behavior, use `series.iloc[i:j]`. To get the future behavior, use `series.loc[i:j]`.\n",
      "  traj['gaps'] = [np.mean(1*t.gaps[i:i+resolution]) for i in range(len(t)) if i%resolution==0]\n",
      "/home/anupkumar/egalaxy/birdl/BirdDL/utils/dataloader.py:66: FutureWarning: The behavior of `series[i:j]` with an integer-dtype index is deprecated. In a future version, this will be treated as *label-based* indexing, consistent with e.g. `series[i]` lookups. To retain the old behavior, use `series.iloc[i:j]`. To get the future behavior, use `series.loc[i:j]`.\n",
      "  traj['dive'] = [np.max(t.dive[i:i+resolution]) for i in range(len(t)) if i%resolution==0]\n",
      "/home/anupkumar/egalaxy/birdl/BirdDL/utils/dataloader.py:73: FutureWarning: The frame.append method is deprecated and will be removed from pandas in a future version. Use pandas.concat instead.\n",
      "  data_new = data_new.append(traj, ignore_index=True)\n",
      "/home/anupkumar/egalaxy/birdl/BirdDL/utils/dataloader.py:65: FutureWarning: The behavior of `series[i:j]` with an integer-dtype index is deprecated. In a future version, this will be treated as *label-based* indexing, consistent with e.g. `series[i]` lookups. To retain the old behavior, use `series.iloc[i:j]`. To get the future behavior, use `series.loc[i:j]`.\n",
      "  traj['gaps'] = [np.mean(1*t.gaps[i:i+resolution]) for i in range(len(t)) if i%resolution==0]\n",
      "/home/anupkumar/egalaxy/birdl/BirdDL/utils/dataloader.py:66: FutureWarning: The behavior of `series[i:j]` with an integer-dtype index is deprecated. In a future version, this will be treated as *label-based* indexing, consistent with e.g. `series[i]` lookups. To retain the old behavior, use `series.iloc[i:j]`. To get the future behavior, use `series.loc[i:j]`.\n",
      "  traj['dive'] = [np.max(t.dive[i:i+resolution]) for i in range(len(t)) if i%resolution==0]\n",
      "/home/anupkumar/egalaxy/birdl/BirdDL/utils/dataloader.py:73: FutureWarning: The frame.append method is deprecated and will be removed from pandas in a future version. Use pandas.concat instead.\n",
      "  data_new = data_new.append(traj, ignore_index=True)\n",
      "/home/anupkumar/egalaxy/birdl/BirdDL/utils/dataloader.py:65: FutureWarning: The behavior of `series[i:j]` with an integer-dtype index is deprecated. In a future version, this will be treated as *label-based* indexing, consistent with e.g. `series[i]` lookups. To retain the old behavior, use `series.iloc[i:j]`. To get the future behavior, use `series.loc[i:j]`.\n",
      "  traj['gaps'] = [np.mean(1*t.gaps[i:i+resolution]) for i in range(len(t)) if i%resolution==0]\n",
      "/home/anupkumar/egalaxy/birdl/BirdDL/utils/dataloader.py:66: FutureWarning: The behavior of `series[i:j]` with an integer-dtype index is deprecated. In a future version, this will be treated as *label-based* indexing, consistent with e.g. `series[i]` lookups. To retain the old behavior, use `series.iloc[i:j]`. To get the future behavior, use `series.loc[i:j]`.\n",
      "  traj['dive'] = [np.max(t.dive[i:i+resolution]) for i in range(len(t)) if i%resolution==0]\n",
      "/home/anupkumar/egalaxy/birdl/BirdDL/utils/dataloader.py:73: FutureWarning: The frame.append method is deprecated and will be removed from pandas in a future version. Use pandas.concat instead.\n",
      "  data_new = data_new.append(traj, ignore_index=True)\n",
      "/home/anupkumar/egalaxy/birdl/BirdDL/utils/dataloader.py:65: FutureWarning: The behavior of `series[i:j]` with an integer-dtype index is deprecated. In a future version, this will be treated as *label-based* indexing, consistent with e.g. `series[i]` lookups. To retain the old behavior, use `series.iloc[i:j]`. To get the future behavior, use `series.loc[i:j]`.\n",
      "  traj['gaps'] = [np.mean(1*t.gaps[i:i+resolution]) for i in range(len(t)) if i%resolution==0]\n",
      "/home/anupkumar/egalaxy/birdl/BirdDL/utils/dataloader.py:66: FutureWarning: The behavior of `series[i:j]` with an integer-dtype index is deprecated. In a future version, this will be treated as *label-based* indexing, consistent with e.g. `series[i]` lookups. To retain the old behavior, use `series.iloc[i:j]`. To get the future behavior, use `series.loc[i:j]`.\n",
      "  traj['dive'] = [np.max(t.dive[i:i+resolution]) for i in range(len(t)) if i%resolution==0]\n",
      "/home/anupkumar/egalaxy/birdl/BirdDL/utils/dataloader.py:73: FutureWarning: The frame.append method is deprecated and will be removed from pandas in a future version. Use pandas.concat instead.\n",
      "  data_new = data_new.append(traj, ignore_index=True)\n",
      "/home/anupkumar/egalaxy/birdl/BirdDL/utils/dataloader.py:65: FutureWarning: The behavior of `series[i:j]` with an integer-dtype index is deprecated. In a future version, this will be treated as *label-based* indexing, consistent with e.g. `series[i]` lookups. To retain the old behavior, use `series.iloc[i:j]`. To get the future behavior, use `series.loc[i:j]`.\n",
      "  traj['gaps'] = [np.mean(1*t.gaps[i:i+resolution]) for i in range(len(t)) if i%resolution==0]\n",
      "/home/anupkumar/egalaxy/birdl/BirdDL/utils/dataloader.py:66: FutureWarning: The behavior of `series[i:j]` with an integer-dtype index is deprecated. In a future version, this will be treated as *label-based* indexing, consistent with e.g. `series[i]` lookups. To retain the old behavior, use `series.iloc[i:j]`. To get the future behavior, use `series.loc[i:j]`.\n",
      "  traj['dive'] = [np.max(t.dive[i:i+resolution]) for i in range(len(t)) if i%resolution==0]\n",
      "/home/anupkumar/egalaxy/birdl/BirdDL/utils/dataloader.py:73: FutureWarning: The frame.append method is deprecated and will be removed from pandas in a future version. Use pandas.concat instead.\n",
      "  data_new = data_new.append(traj, ignore_index=True)\n",
      "/home/anupkumar/egalaxy/birdl/BirdDL/utils/dataloader.py:65: FutureWarning: The behavior of `series[i:j]` with an integer-dtype index is deprecated. In a future version, this will be treated as *label-based* indexing, consistent with e.g. `series[i]` lookups. To retain the old behavior, use `series.iloc[i:j]`. To get the future behavior, use `series.loc[i:j]`.\n",
      "  traj['gaps'] = [np.mean(1*t.gaps[i:i+resolution]) for i in range(len(t)) if i%resolution==0]\n",
      "/home/anupkumar/egalaxy/birdl/BirdDL/utils/dataloader.py:66: FutureWarning: The behavior of `series[i:j]` with an integer-dtype index is deprecated. In a future version, this will be treated as *label-based* indexing, consistent with e.g. `series[i]` lookups. To retain the old behavior, use `series.iloc[i:j]`. To get the future behavior, use `series.loc[i:j]`.\n",
      "  traj['dive'] = [np.max(t.dive[i:i+resolution]) for i in range(len(t)) if i%resolution==0]\n",
      "/home/anupkumar/egalaxy/birdl/BirdDL/utils/dataloader.py:73: FutureWarning: The frame.append method is deprecated and will be removed from pandas in a future version. Use pandas.concat instead.\n",
      "  data_new = data_new.append(traj, ignore_index=True)\n",
      "/home/anupkumar/egalaxy/birdl/BirdDL/utils/dataloader.py:65: FutureWarning: The behavior of `series[i:j]` with an integer-dtype index is deprecated. In a future version, this will be treated as *label-based* indexing, consistent with e.g. `series[i]` lookups. To retain the old behavior, use `series.iloc[i:j]`. To get the future behavior, use `series.loc[i:j]`.\n",
      "  traj['gaps'] = [np.mean(1*t.gaps[i:i+resolution]) for i in range(len(t)) if i%resolution==0]\n",
      "/home/anupkumar/egalaxy/birdl/BirdDL/utils/dataloader.py:66: FutureWarning: The behavior of `series[i:j]` with an integer-dtype index is deprecated. In a future version, this will be treated as *label-based* indexing, consistent with e.g. `series[i]` lookups. To retain the old behavior, use `series.iloc[i:j]`. To get the future behavior, use `series.loc[i:j]`.\n",
      "  traj['dive'] = [np.max(t.dive[i:i+resolution]) for i in range(len(t)) if i%resolution==0]\n",
      "/home/anupkumar/egalaxy/birdl/BirdDL/utils/dataloader.py:73: FutureWarning: The frame.append method is deprecated and will be removed from pandas in a future version. Use pandas.concat instead.\n",
      "  data_new = data_new.append(traj, ignore_index=True)\n",
      "/home/anupkumar/egalaxy/birdl/BirdDL/utils/dataloader.py:65: FutureWarning: The behavior of `series[i:j]` with an integer-dtype index is deprecated. In a future version, this will be treated as *label-based* indexing, consistent with e.g. `series[i]` lookups. To retain the old behavior, use `series.iloc[i:j]`. To get the future behavior, use `series.loc[i:j]`.\n",
      "  traj['gaps'] = [np.mean(1*t.gaps[i:i+resolution]) for i in range(len(t)) if i%resolution==0]\n",
      "/home/anupkumar/egalaxy/birdl/BirdDL/utils/dataloader.py:66: FutureWarning: The behavior of `series[i:j]` with an integer-dtype index is deprecated. In a future version, this will be treated as *label-based* indexing, consistent with e.g. `series[i]` lookups. To retain the old behavior, use `series.iloc[i:j]`. To get the future behavior, use `series.loc[i:j]`.\n",
      "  traj['dive'] = [np.max(t.dive[i:i+resolution]) for i in range(len(t)) if i%resolution==0]\n",
      "/home/anupkumar/egalaxy/birdl/BirdDL/utils/dataloader.py:73: FutureWarning: The frame.append method is deprecated and will be removed from pandas in a future version. Use pandas.concat instead.\n",
      "  data_new = data_new.append(traj, ignore_index=True)\n",
      "/home/anupkumar/egalaxy/birdl/BirdDL/utils/dataloader.py:65: FutureWarning: The behavior of `series[i:j]` with an integer-dtype index is deprecated. In a future version, this will be treated as *label-based* indexing, consistent with e.g. `series[i]` lookups. To retain the old behavior, use `series.iloc[i:j]`. To get the future behavior, use `series.loc[i:j]`.\n",
      "  traj['gaps'] = [np.mean(1*t.gaps[i:i+resolution]) for i in range(len(t)) if i%resolution==0]\n",
      "/home/anupkumar/egalaxy/birdl/BirdDL/utils/dataloader.py:66: FutureWarning: The behavior of `series[i:j]` with an integer-dtype index is deprecated. In a future version, this will be treated as *label-based* indexing, consistent with e.g. `series[i]` lookups. To retain the old behavior, use `series.iloc[i:j]`. To get the future behavior, use `series.loc[i:j]`.\n",
      "  traj['dive'] = [np.max(t.dive[i:i+resolution]) for i in range(len(t)) if i%resolution==0]\n",
      "/home/anupkumar/egalaxy/birdl/BirdDL/utils/dataloader.py:73: FutureWarning: The frame.append method is deprecated and will be removed from pandas in a future version. Use pandas.concat instead.\n",
      "  data_new = data_new.append(traj, ignore_index=True)\n",
      "/home/anupkumar/egalaxy/birdl/BirdDL/utils/dataloader.py:73: FutureWarning: The frame.append method is deprecated and will be removed from pandas in a future version. Use pandas.concat instead.\n",
      "  data_new = data_new.append(traj, ignore_index=True)\n",
      "/home/anupkumar/egalaxy/birdl/BirdDL/utils/dataloader.py:65: FutureWarning: The behavior of `series[i:j]` with an integer-dtype index is deprecated. In a future version, this will be treated as *label-based* indexing, consistent with e.g. `series[i]` lookups. To retain the old behavior, use `series.iloc[i:j]`. To get the future behavior, use `series.loc[i:j]`.\n",
      "  traj['gaps'] = [np.mean(1*t.gaps[i:i+resolution]) for i in range(len(t)) if i%resolution==0]\n",
      "/home/anupkumar/egalaxy/birdl/BirdDL/utils/dataloader.py:66: FutureWarning: The behavior of `series[i:j]` with an integer-dtype index is deprecated. In a future version, this will be treated as *label-based* indexing, consistent with e.g. `series[i]` lookups. To retain the old behavior, use `series.iloc[i:j]`. To get the future behavior, use `series.loc[i:j]`.\n",
      "  traj['dive'] = [np.max(t.dive[i:i+resolution]) for i in range(len(t)) if i%resolution==0]\n",
      "/home/anupkumar/egalaxy/birdl/BirdDL/utils/dataloader.py:73: FutureWarning: The frame.append method is deprecated and will be removed from pandas in a future version. Use pandas.concat instead.\n",
      "  data_new = data_new.append(traj, ignore_index=True)\n",
      "/home/anupkumar/egalaxy/birdl/BirdDL/utils/dataloader.py:65: FutureWarning: The behavior of `series[i:j]` with an integer-dtype index is deprecated. In a future version, this will be treated as *label-based* indexing, consistent with e.g. `series[i]` lookups. To retain the old behavior, use `series.iloc[i:j]`. To get the future behavior, use `series.loc[i:j]`.\n",
      "  traj['gaps'] = [np.mean(1*t.gaps[i:i+resolution]) for i in range(len(t)) if i%resolution==0]\n",
      "/home/anupkumar/egalaxy/birdl/BirdDL/utils/dataloader.py:66: FutureWarning: The behavior of `series[i:j]` with an integer-dtype index is deprecated. In a future version, this will be treated as *label-based* indexing, consistent with e.g. `series[i]` lookups. To retain the old behavior, use `series.iloc[i:j]`. To get the future behavior, use `series.loc[i:j]`.\n",
      "  traj['dive'] = [np.max(t.dive[i:i+resolution]) for i in range(len(t)) if i%resolution==0]\n",
      "/home/anupkumar/egalaxy/birdl/BirdDL/utils/dataloader.py:73: FutureWarning: The frame.append method is deprecated and will be removed from pandas in a future version. Use pandas.concat instead.\n",
      "  data_new = data_new.append(traj, ignore_index=True)\n",
      "/home/anupkumar/egalaxy/birdl/BirdDL/utils/dataloader.py:65: FutureWarning: The behavior of `series[i:j]` with an integer-dtype index is deprecated. In a future version, this will be treated as *label-based* indexing, consistent with e.g. `series[i]` lookups. To retain the old behavior, use `series.iloc[i:j]`. To get the future behavior, use `series.loc[i:j]`.\n",
      "  traj['gaps'] = [np.mean(1*t.gaps[i:i+resolution]) for i in range(len(t)) if i%resolution==0]\n",
      "/home/anupkumar/egalaxy/birdl/BirdDL/utils/dataloader.py:66: FutureWarning: The behavior of `series[i:j]` with an integer-dtype index is deprecated. In a future version, this will be treated as *label-based* indexing, consistent with e.g. `series[i]` lookups. To retain the old behavior, use `series.iloc[i:j]`. To get the future behavior, use `series.loc[i:j]`.\n",
      "  traj['dive'] = [np.max(t.dive[i:i+resolution]) for i in range(len(t)) if i%resolution==0]\n",
      "/home/anupkumar/egalaxy/birdl/BirdDL/utils/dataloader.py:73: FutureWarning: The frame.append method is deprecated and will be removed from pandas in a future version. Use pandas.concat instead.\n",
      "  data_new = data_new.append(traj, ignore_index=True)\n",
      "/home/anupkumar/egalaxy/birdl/BirdDL/utils/dataloader.py:65: FutureWarning: The behavior of `series[i:j]` with an integer-dtype index is deprecated. In a future version, this will be treated as *label-based* indexing, consistent with e.g. `series[i]` lookups. To retain the old behavior, use `series.iloc[i:j]`. To get the future behavior, use `series.loc[i:j]`.\n",
      "  traj['gaps'] = [np.mean(1*t.gaps[i:i+resolution]) for i in range(len(t)) if i%resolution==0]\n",
      "/home/anupkumar/egalaxy/birdl/BirdDL/utils/dataloader.py:66: FutureWarning: The behavior of `series[i:j]` with an integer-dtype index is deprecated. In a future version, this will be treated as *label-based* indexing, consistent with e.g. `series[i]` lookups. To retain the old behavior, use `series.iloc[i:j]`. To get the future behavior, use `series.loc[i:j]`.\n",
      "  traj['dive'] = [np.max(t.dive[i:i+resolution]) for i in range(len(t)) if i%resolution==0]\n",
      "/home/anupkumar/egalaxy/birdl/BirdDL/utils/dataloader.py:73: FutureWarning: The frame.append method is deprecated and will be removed from pandas in a future version. Use pandas.concat instead.\n",
      "  data_new = data_new.append(traj, ignore_index=True)\n",
      "/home/anupkumar/egalaxy/birdl/BirdDL/utils/dataloader.py:65: FutureWarning: The behavior of `series[i:j]` with an integer-dtype index is deprecated. In a future version, this will be treated as *label-based* indexing, consistent with e.g. `series[i]` lookups. To retain the old behavior, use `series.iloc[i:j]`. To get the future behavior, use `series.loc[i:j]`.\n",
      "  traj['gaps'] = [np.mean(1*t.gaps[i:i+resolution]) for i in range(len(t)) if i%resolution==0]\n",
      "/home/anupkumar/egalaxy/birdl/BirdDL/utils/dataloader.py:66: FutureWarning: The behavior of `series[i:j]` with an integer-dtype index is deprecated. In a future version, this will be treated as *label-based* indexing, consistent with e.g. `series[i]` lookups. To retain the old behavior, use `series.iloc[i:j]`. To get the future behavior, use `series.loc[i:j]`.\n",
      "  traj['dive'] = [np.max(t.dive[i:i+resolution]) for i in range(len(t)) if i%resolution==0]\n",
      "/home/anupkumar/egalaxy/birdl/BirdDL/utils/dataloader.py:73: FutureWarning: The frame.append method is deprecated and will be removed from pandas in a future version. Use pandas.concat instead.\n",
      "  data_new = data_new.append(traj, ignore_index=True)\n",
      "/home/anupkumar/egalaxy/birdl/BirdDL/utils/dataloader.py:65: FutureWarning: The behavior of `series[i:j]` with an integer-dtype index is deprecated. In a future version, this will be treated as *label-based* indexing, consistent with e.g. `series[i]` lookups. To retain the old behavior, use `series.iloc[i:j]`. To get the future behavior, use `series.loc[i:j]`.\n",
      "  traj['gaps'] = [np.mean(1*t.gaps[i:i+resolution]) for i in range(len(t)) if i%resolution==0]\n",
      "/home/anupkumar/egalaxy/birdl/BirdDL/utils/dataloader.py:66: FutureWarning: The behavior of `series[i:j]` with an integer-dtype index is deprecated. In a future version, this will be treated as *label-based* indexing, consistent with e.g. `series[i]` lookups. To retain the old behavior, use `series.iloc[i:j]`. To get the future behavior, use `series.loc[i:j]`.\n",
      "  traj['dive'] = [np.max(t.dive[i:i+resolution]) for i in range(len(t)) if i%resolution==0]\n",
      "/home/anupkumar/egalaxy/birdl/BirdDL/utils/dataloader.py:73: FutureWarning: The frame.append method is deprecated and will be removed from pandas in a future version. Use pandas.concat instead.\n",
      "  data_new = data_new.append(traj, ignore_index=True)\n",
      "/home/anupkumar/egalaxy/birdl/BirdDL/utils/dataloader.py:65: FutureWarning: The behavior of `series[i:j]` with an integer-dtype index is deprecated. In a future version, this will be treated as *label-based* indexing, consistent with e.g. `series[i]` lookups. To retain the old behavior, use `series.iloc[i:j]`. To get the future behavior, use `series.loc[i:j]`.\n",
      "  traj['gaps'] = [np.mean(1*t.gaps[i:i+resolution]) for i in range(len(t)) if i%resolution==0]\n",
      "/home/anupkumar/egalaxy/birdl/BirdDL/utils/dataloader.py:66: FutureWarning: The behavior of `series[i:j]` with an integer-dtype index is deprecated. In a future version, this will be treated as *label-based* indexing, consistent with e.g. `series[i]` lookups. To retain the old behavior, use `series.iloc[i:j]`. To get the future behavior, use `series.loc[i:j]`.\n",
      "  traj['dive'] = [np.max(t.dive[i:i+resolution]) for i in range(len(t)) if i%resolution==0]\n",
      "/home/anupkumar/egalaxy/birdl/BirdDL/utils/dataloader.py:73: FutureWarning: The frame.append method is deprecated and will be removed from pandas in a future version. Use pandas.concat instead.\n",
      "  data_new = data_new.append(traj, ignore_index=True)\n",
      "/home/anupkumar/egalaxy/birdl/BirdDL/utils/dataloader.py:65: FutureWarning: The behavior of `series[i:j]` with an integer-dtype index is deprecated. In a future version, this will be treated as *label-based* indexing, consistent with e.g. `series[i]` lookups. To retain the old behavior, use `series.iloc[i:j]`. To get the future behavior, use `series.loc[i:j]`.\n",
      "  traj['gaps'] = [np.mean(1*t.gaps[i:i+resolution]) for i in range(len(t)) if i%resolution==0]\n",
      "/home/anupkumar/egalaxy/birdl/BirdDL/utils/dataloader.py:66: FutureWarning: The behavior of `series[i:j]` with an integer-dtype index is deprecated. In a future version, this will be treated as *label-based* indexing, consistent with e.g. `series[i]` lookups. To retain the old behavior, use `series.iloc[i:j]`. To get the future behavior, use `series.loc[i:j]`.\n",
      "  traj['dive'] = [np.max(t.dive[i:i+resolution]) for i in range(len(t)) if i%resolution==0]\n",
      "/home/anupkumar/egalaxy/birdl/BirdDL/utils/dataloader.py:73: FutureWarning: The frame.append method is deprecated and will be removed from pandas in a future version. Use pandas.concat instead.\n",
      "  data_new = data_new.append(traj, ignore_index=True)\n",
      "/home/anupkumar/egalaxy/birdl/BirdDL/utils/dataloader.py:65: FutureWarning: The behavior of `series[i:j]` with an integer-dtype index is deprecated. In a future version, this will be treated as *label-based* indexing, consistent with e.g. `series[i]` lookups. To retain the old behavior, use `series.iloc[i:j]`. To get the future behavior, use `series.loc[i:j]`.\n",
      "  traj['gaps'] = [np.mean(1*t.gaps[i:i+resolution]) for i in range(len(t)) if i%resolution==0]\n",
      "/home/anupkumar/egalaxy/birdl/BirdDL/utils/dataloader.py:66: FutureWarning: The behavior of `series[i:j]` with an integer-dtype index is deprecated. In a future version, this will be treated as *label-based* indexing, consistent with e.g. `series[i]` lookups. To retain the old behavior, use `series.iloc[i:j]`. To get the future behavior, use `series.loc[i:j]`.\n",
      "  traj['dive'] = [np.max(t.dive[i:i+resolution]) for i in range(len(t)) if i%resolution==0]\n",
      "/home/anupkumar/egalaxy/birdl/BirdDL/utils/dataloader.py:73: FutureWarning: The frame.append method is deprecated and will be removed from pandas in a future version. Use pandas.concat instead.\n",
      "  data_new = data_new.append(traj, ignore_index=True)\n",
      "/home/anupkumar/egalaxy/birdl/BirdDL/utils/dataloader.py:65: FutureWarning: The behavior of `series[i:j]` with an integer-dtype index is deprecated. In a future version, this will be treated as *label-based* indexing, consistent with e.g. `series[i]` lookups. To retain the old behavior, use `series.iloc[i:j]`. To get the future behavior, use `series.loc[i:j]`.\n",
      "  traj['gaps'] = [np.mean(1*t.gaps[i:i+resolution]) for i in range(len(t)) if i%resolution==0]\n",
      "/home/anupkumar/egalaxy/birdl/BirdDL/utils/dataloader.py:66: FutureWarning: The behavior of `series[i:j]` with an integer-dtype index is deprecated. In a future version, this will be treated as *label-based* indexing, consistent with e.g. `series[i]` lookups. To retain the old behavior, use `series.iloc[i:j]`. To get the future behavior, use `series.loc[i:j]`.\n",
      "  traj['dive'] = [np.max(t.dive[i:i+resolution]) for i in range(len(t)) if i%resolution==0]\n",
      "/home/anupkumar/egalaxy/birdl/BirdDL/utils/dataloader.py:73: FutureWarning: The frame.append method is deprecated and will be removed from pandas in a future version. Use pandas.concat instead.\n",
      "  data_new = data_new.append(traj, ignore_index=True)\n",
      "/home/anupkumar/egalaxy/birdl/BirdDL/utils/dataloader.py:65: FutureWarning: The behavior of `series[i:j]` with an integer-dtype index is deprecated. In a future version, this will be treated as *label-based* indexing, consistent with e.g. `series[i]` lookups. To retain the old behavior, use `series.iloc[i:j]`. To get the future behavior, use `series.loc[i:j]`.\n",
      "  traj['gaps'] = [np.mean(1*t.gaps[i:i+resolution]) for i in range(len(t)) if i%resolution==0]\n",
      "/home/anupkumar/egalaxy/birdl/BirdDL/utils/dataloader.py:66: FutureWarning: The behavior of `series[i:j]` with an integer-dtype index is deprecated. In a future version, this will be treated as *label-based* indexing, consistent with e.g. `series[i]` lookups. To retain the old behavior, use `series.iloc[i:j]`. To get the future behavior, use `series.loc[i:j]`.\n",
      "  traj['dive'] = [np.max(t.dive[i:i+resolution]) for i in range(len(t)) if i%resolution==0]\n",
      "/home/anupkumar/egalaxy/birdl/BirdDL/utils/dataloader.py:73: FutureWarning: The frame.append method is deprecated and will be removed from pandas in a future version. Use pandas.concat instead.\n",
      "  data_new = data_new.append(traj, ignore_index=True)\n",
      "/home/anupkumar/egalaxy/birdl/BirdDL/utils/dataloader.py:65: FutureWarning: The behavior of `series[i:j]` with an integer-dtype index is deprecated. In a future version, this will be treated as *label-based* indexing, consistent with e.g. `series[i]` lookups. To retain the old behavior, use `series.iloc[i:j]`. To get the future behavior, use `series.loc[i:j]`.\n",
      "  traj['gaps'] = [np.mean(1*t.gaps[i:i+resolution]) for i in range(len(t)) if i%resolution==0]\n",
      "/home/anupkumar/egalaxy/birdl/BirdDL/utils/dataloader.py:66: FutureWarning: The behavior of `series[i:j]` with an integer-dtype index is deprecated. In a future version, this will be treated as *label-based* indexing, consistent with e.g. `series[i]` lookups. To retain the old behavior, use `series.iloc[i:j]`. To get the future behavior, use `series.loc[i:j]`.\n",
      "  traj['dive'] = [np.max(t.dive[i:i+resolution]) for i in range(len(t)) if i%resolution==0]\n",
      "/home/anupkumar/egalaxy/birdl/BirdDL/utils/dataloader.py:73: FutureWarning: The frame.append method is deprecated and will be removed from pandas in a future version. Use pandas.concat instead.\n",
      "  data_new = data_new.append(traj, ignore_index=True)\n",
      "/home/anupkumar/egalaxy/birdl/BirdDL/utils/dataloader.py:65: FutureWarning: The behavior of `series[i:j]` with an integer-dtype index is deprecated. In a future version, this will be treated as *label-based* indexing, consistent with e.g. `series[i]` lookups. To retain the old behavior, use `series.iloc[i:j]`. To get the future behavior, use `series.loc[i:j]`.\n",
      "  traj['gaps'] = [np.mean(1*t.gaps[i:i+resolution]) for i in range(len(t)) if i%resolution==0]\n",
      "/home/anupkumar/egalaxy/birdl/BirdDL/utils/dataloader.py:66: FutureWarning: The behavior of `series[i:j]` with an integer-dtype index is deprecated. In a future version, this will be treated as *label-based* indexing, consistent with e.g. `series[i]` lookups. To retain the old behavior, use `series.iloc[i:j]`. To get the future behavior, use `series.loc[i:j]`.\n",
      "  traj['dive'] = [np.max(t.dive[i:i+resolution]) for i in range(len(t)) if i%resolution==0]\n",
      "/home/anupkumar/egalaxy/birdl/BirdDL/utils/dataloader.py:73: FutureWarning: The frame.append method is deprecated and will be removed from pandas in a future version. Use pandas.concat instead.\n",
      "  data_new = data_new.append(traj, ignore_index=True)\n",
      "/home/anupkumar/egalaxy/birdl/BirdDL/utils/dataloader.py:65: FutureWarning: The behavior of `series[i:j]` with an integer-dtype index is deprecated. In a future version, this will be treated as *label-based* indexing, consistent with e.g. `series[i]` lookups. To retain the old behavior, use `series.iloc[i:j]`. To get the future behavior, use `series.loc[i:j]`.\n",
      "  traj['gaps'] = [np.mean(1*t.gaps[i:i+resolution]) for i in range(len(t)) if i%resolution==0]\n",
      "/home/anupkumar/egalaxy/birdl/BirdDL/utils/dataloader.py:66: FutureWarning: The behavior of `series[i:j]` with an integer-dtype index is deprecated. In a future version, this will be treated as *label-based* indexing, consistent with e.g. `series[i]` lookups. To retain the old behavior, use `series.iloc[i:j]`. To get the future behavior, use `series.loc[i:j]`.\n",
      "  traj['dive'] = [np.max(t.dive[i:i+resolution]) for i in range(len(t)) if i%resolution==0]\n",
      "/home/anupkumar/egalaxy/birdl/BirdDL/utils/dataloader.py:73: FutureWarning: The frame.append method is deprecated and will be removed from pandas in a future version. Use pandas.concat instead.\n",
      "  data_new = data_new.append(traj, ignore_index=True)\n"
     ]
    }
   ],
   "source": [
    "resolution = 5\n",
    "\n",
    "train = format_data(data_train, resolution)\n",
    "val = format_data(data_validation, resolution)\n",
    "test = format_data(data_test, resolution)"
   ]
  },
  {
   "cell_type": "code",
   "execution_count": 145,
   "id": "18b5f9fe-f6b7-4ccf-84c9-13d6d8a42d74",
   "metadata": {},
   "outputs": [],
   "source": []
  },
  {
   "cell_type": "code",
   "execution_count": 84,
   "id": "f695a0f0-9e67-49ff-959e-54d0601af1bf",
   "metadata": {},
   "outputs": [],
   "source": [
    "## Dataloader\n",
    "window = 1\n",
    "variable = ('step_speed', 'step_direction', 'gaps')\n",
    "batch_size = 1024\n",
    "W = 5"
   ]
  },
  {
   "cell_type": "code",
   "execution_count": 120,
   "id": "cb3c63bb-8b72-4b04-840e-45cd9318b9b3",
   "metadata": {},
   "outputs": [
    {
     "name": "stdout",
     "output_type": "stream",
     "text": [
      "(67262, 3) (67262,)\n",
      "(43519, 3) (43519,)\n",
      "(25082, 3) (25082,)\n"
     ]
    }
   ],
   "source": [
    "class TrajDataSet_new():\n",
    "    def __init__(self,  df, window, variable, transform=None):\n",
    "        self.df = df.set_index(np.arange(len(df))) #reorder idx\n",
    "        self.window = window\n",
    "        self.var = variable\n",
    "        self.start_idx = np.where([self.df.trip[i]==self.df.trip[i+self.window-1] for i in range(len(self.df)-self.window+1)])[0]\n",
    "        self.transform = transform\n",
    "\n",
    "    def __len__(self):\n",
    "        return len(self.start_idx)\n",
    "\n",
    "    def __getitem__(self, idx):\n",
    "        i = self.start_idx[idx]\n",
    "        # select variable of interest\n",
    "        traj = self.df.loc[i:i+self.window-1, self.var]\n",
    "        traj = np.array(traj).T\n",
    "        dive = self.df.loc[i:i+self.window-1, 'dive']\n",
    "        dive = np.array(dive)\n",
    "        sample = (traj, dive)\n",
    "        if self.transform:\n",
    "            sample = self.transform(sample)\n",
    "        return sample\n",
    "    \n",
    "\n",
    "def create_mat(data_set):\n",
    "    d_features = list()\n",
    "    d_labels = list()\n",
    "    for i in range(len(data_set.start_idx)):\n",
    "        row = data_set.__getitem__(i)\n",
    "        feature = row[0].numpy()\n",
    "        feature = feature.squeeze()\n",
    "        d_features.append(feature)\n",
    "        label = row[1].numpy()\n",
    "        d_labels.append(label.squeeze())\n",
    "    d_features = np.array(d_features)\n",
    "    d_labels = np.array(d_labels)\n",
    "    print(d_features.shape, d_labels.shape)\n",
    "    return d_features, d_labels\n",
    "\n",
    "train_set = TrajDataSet_new(train, window, variable, transform=ToTensor())\n",
    "tr_features, tr_labels = create_mat(train_set)\n",
    "\n",
    "val_set = TrajDataSet_new(val, window, variable, transform=ToTensor())\n",
    "val_features, val_labels = create_mat(val_set)\n",
    "\n",
    "te_set = TrajDataSet_new(test, window, variable, transform=ToTensor())\n",
    "te_features, te_labels = create_mat(te_set)"
   ]
  },
  {
   "cell_type": "code",
   "execution_count": null,
   "id": "ed6aba47-8457-4575-8415-64c2a0c4d566",
   "metadata": {},
   "outputs": [],
   "source": [
    "# Oversample positive samples\n",
    "'''over_pos_samples = list()\n",
    "over_pos_labels = list()\n",
    "for i in range(tr_labels.shape[0]):\n",
    "    if tr_labels_sq[i] == 1:\n",
    "        over_pos_samples.append(tr_features[i])\n",
    "        over_pos_labels.append(tr_labels_sq[i])\n",
    "        \n",
    "over_pos_samples = np.array(over_pos_samples)\n",
    "\n",
    "oversample_factor = 5\n",
    "\n",
    "re_over_pos_sample = np.repeat(over_pos_samples, oversample_factor, axis=0)\n",
    "re_over_pos_labels = np.repeat(over_pos_labels, oversample_factor, axis=0)\n",
    "re_over_pos_sample.shape, re_over_pos_labels.shape\n",
    "\n",
    "\n",
    "oversample_tr_features = np.concatenate((tr_features, re_over_pos_sample), axis=0)\n",
    "oversample_tr_labels = np.concatenate((tr_labels_sq, re_over_pos_labels), axis=0)\n",
    "oversample_tr_features.shape, oversample_tr_labels.shape\n",
    "idx = np.random.permutation(oversample_tr_features.shape[0])\n",
    "oversample_tr_features, oversample_tr_labels = oversample_tr_features[idx], oversample_tr_labels[idx]\n",
    "oversample_tr_features.shape, oversample_tr_labels.shape'''"
   ]
  },
  {
   "cell_type": "code",
   "execution_count": 142,
   "id": "a71595f2-58ca-42a8-8a16-18e803dadccf",
   "metadata": {},
   "outputs": [
    {
     "name": "stdout",
     "output_type": "stream",
     "text": [
      "Model: \"sequential_30\"\n",
      "_________________________________________________________________\n",
      " Layer (type)                Output Shape              Param #   \n",
      "=================================================================\n",
      " conv1d_120 (Conv1D)         (None, 3, 8)              48        \n",
      "                                                                 \n",
      " batch_normalization_45 (Bat  (None, 3, 8)             32        \n",
      " chNormalization)                                                \n",
      "                                                                 \n",
      " conv1d_121 (Conv1D)         (None, 3, 16)             656       \n",
      "                                                                 \n",
      " batch_normalization_46 (Bat  (None, 3, 16)            64        \n",
      " chNormalization)                                                \n",
      "                                                                 \n",
      " conv1d_122 (Conv1D)         (None, 3, 32)             2592      \n",
      "                                                                 \n",
      " batch_normalization_47 (Bat  (None, 3, 32)            128       \n",
      " chNormalization)                                                \n",
      "                                                                 \n",
      " conv1d_123 (Conv1D)         (None, 3, 1)              161       \n",
      "                                                                 \n",
      " batch_normalization_48 (Bat  (None, 3, 1)             4         \n",
      " chNormalization)                                                \n",
      "                                                                 \n",
      " global_max_pooling1d_22 (Gl  (None, 1)                0         \n",
      " obalMaxPooling1D)                                               \n",
      "                                                                 \n",
      " dense_4 (Dense)             (None, 1)                 2         \n",
      "                                                                 \n",
      "=================================================================\n",
      "Total params: 3,687\n",
      "Trainable params: 3,573\n",
      "Non-trainable params: 114\n",
      "_________________________________________________________________\n"
     ]
    }
   ],
   "source": [
    "import tensorflow as tf\n",
    "\n",
    "model = tf.keras.models.Sequential([\n",
    "    tf.keras.layers.Conv1D(8, kernel_size=5, padding='same', activation='relu', strides=1, input_shape=(len(variable), window)),\n",
    "    tf.keras.layers.BatchNormalization(),\n",
    "    tf.keras.layers.Conv1D(16, kernel_size=5, padding='same', activation='relu', strides=1),\n",
    "    tf.keras.layers.BatchNormalization(),\n",
    "    tf.keras.layers.Conv1D(32, kernel_size=5, padding='same', activation='relu', strides=1),\n",
    "    tf.keras.layers.BatchNormalization(),\n",
    "    tf.keras.layers.Conv1D(window, kernel_size=5, padding='same', strides=1),\n",
    "    tf.keras.layers.BatchNormalization(),\n",
    "    tf.keras.layers.GlobalMaxPooling1D(),\n",
    "    tf.keras.layers.Dense(1, activation='sigmoid'),\n",
    "])\n",
    "\n",
    "model.compile(\n",
    "    optimizer='adam',\n",
    "    loss='binary_crossentropy',\n",
    "    metrics=['accuracy', tf.keras.metrics.TruePositives(name='tp'),\n",
    "      tf.keras.metrics.FalsePositives(name='fp'),\n",
    "      tf.keras.metrics.TrueNegatives(name='tn'),\n",
    "      tf.keras.metrics.FalseNegatives(name='fn'), \n",
    "      tf.keras.metrics.BinaryAccuracy(name='accuracy_2'),\n",
    "      tf.keras.metrics.Precision(name='precision'),\n",
    "      tf.keras.metrics.Recall(name='recall'),\n",
    "      tf.keras.metrics.AUC(name='auc'),\n",
    "      tf.keras.metrics.AUC(name='prc', curve='PR')]\n",
    ")\n",
    "\n",
    "model.summary()"
   ]
  },
  {
   "cell_type": "code",
   "execution_count": 143,
   "id": "77a46d6b-b0a5-42bc-86d1-f378408c5fed",
   "metadata": {},
   "outputs": [
    {
     "name": "stdout",
     "output_type": "stream",
     "text": [
      "2102/2102 [==============================] - 8s 3ms/step - loss: 0.2607 - accuracy: 0.8946 - tp: 2137.0000 - fp: 1358.0000 - tn: 58034.0000 - fn: 5733.0000 - accuracy_2: 0.8946 - precision: 0.6114 - recall: 0.2715 - auc: 0.8621 - prc: 0.4689 - val_loss: 0.2476 - val_accuracy: 0.9000 - val_tp: 1608.0000 - val_fp: 1191.0000 - val_tn: 37559.0000 - val_fn: 3161.0000 - val_accuracy_2: 0.9000 - val_precision: 0.5745 - val_recall: 0.3372 - val_auc: 0.8688 - val_prc: 0.4456\n"
     ]
    },
    {
     "data": {
      "text/plain": [
       "<keras.callbacks.History at 0x7fdf544e2860>"
      ]
     },
     "execution_count": 143,
     "metadata": {},
     "output_type": "execute_result"
    }
   ],
   "source": [
    "model.fit(tr_features, tr_labels, batch_size=32, validation_data=(val_features, val_labels), epochs=1, shuffle=True)"
   ]
  },
  {
   "cell_type": "code",
   "execution_count": 144,
   "id": "30387c0e-07d9-4723-8958-f1c17a0c5583",
   "metadata": {},
   "outputs": [
    {
     "name": "stdout",
     "output_type": "stream",
     "text": [
      "784/784 [==============================] - 1s 1ms/step\n"
     ]
    }
   ],
   "source": [
    "te_pred = model.predict(te_features)"
   ]
  },
  {
   "cell_type": "code",
   "execution_count": 145,
   "id": "429790ae-96b0-4b37-bfa1-06b54637df5a",
   "metadata": {},
   "outputs": [
    {
     "data": {
      "text/plain": [
       "array([[0.0054015 ],\n",
       "       [0.00999414],\n",
       "       [0.08404828],\n",
       "       ...,\n",
       "       [0.01995328],\n",
       "       [0.00836918],\n",
       "       [0.01196482]], dtype=float32)"
      ]
     },
     "execution_count": 145,
     "metadata": {},
     "output_type": "execute_result"
    }
   ],
   "source": [
    "te_pred"
   ]
  },
  {
   "cell_type": "code",
   "execution_count": 100,
   "id": "301e16eb-6300-4a07-83e1-01fe3ae42fc0",
   "metadata": {},
   "outputs": [],
   "source": []
  },
  {
   "cell_type": "code",
   "execution_count": 102,
   "id": "dae07477-6fe1-43c6-ae56-6d2756ee382e",
   "metadata": {},
   "outputs": [
    {
     "data": {
      "text/plain": [
       "((25082, 3), (25082,))"
      ]
     },
     "execution_count": 102,
     "metadata": {},
     "output_type": "execute_result"
    }
   ],
   "source": []
  },
  {
   "cell_type": "code",
   "execution_count": null,
   "id": "b61a106f-8d31-477f-8a7a-51756d1237b2",
   "metadata": {},
   "outputs": [],
   "source": []
  },
  {
   "cell_type": "code",
   "execution_count": 114,
   "id": "05a29136-6838-4dc2-9ab2-132a3f8f479e",
   "metadata": {},
   "outputs": [
    {
     "name": "stdout",
     "output_type": "stream",
     "text": [
      "784/784 [==============================] - 1s 1ms/step\n"
     ]
    }
   ],
   "source": []
  },
  {
   "cell_type": "code",
   "execution_count": 115,
   "id": "dc26bd82-80d0-46c8-b69e-4d8f17943084",
   "metadata": {},
   "outputs": [
    {
     "data": {
      "text/plain": [
       "array([[-0.14780541],\n",
       "       [-0.15997298],\n",
       "       [-0.17214857],\n",
       "       ...,\n",
       "       [-0.06300297],\n",
       "       [-0.13581693],\n",
       "       [-0.03832073]], dtype=float32)"
      ]
     },
     "execution_count": 115,
     "metadata": {},
     "output_type": "execute_result"
    }
   ],
   "source": []
  },
  {
   "cell_type": "code",
   "execution_count": 139,
   "id": "b9e68743-5785-492e-b6c3-606a0c3faa86",
   "metadata": {},
   "outputs": [
    {
     "data": {
      "image/png": "[encoded data removed]",
      "text/plain": [
       "<Figure size 640x480 with 1 Axes>"
      ]
     },
     "metadata": {},
     "output_type": "display_data"
    }
   ],
   "source": [
    "def plot_roc(input, target):\n",
    "  # globally\n",
    "  TP = []\n",
    "  FP = []\n",
    "\n",
    "  for tt in np.arange(0,1,0.001):\n",
    "      all_estim = 1* (input > tt)\n",
    "      true_positive = np.mean(all_estim[target == 1])\n",
    "      true_negative = 1-np.mean(all_estim[target == 0])\n",
    "      TP.append(true_positive)\n",
    "      FP.append(1-true_negative)\n",
    "\n",
    "  return (np.array(FP), np.array(TP))\n",
    "\n",
    "roc_x, roc_y = plot_roc(te_pred, te_labels)\n",
    "\n",
    "fig, ax = plt.subplots()\n",
    "ax.set_aspect('equal')\n",
    "ax.set_xlabel('False Positive Rate')\n",
    "ax.set_ylabel('True Positive Rate')\n",
    "plt.plot(roc_x, roc_y)\n",
    "plt.grid(True)\n",
    "plt.show()"
   ]
  },
  {
   "cell_type": "code",
   "execution_count": 140,
   "id": "9811e71b-7e33-47fe-a933-14b7a9c62bf0",
   "metadata": {},
   "outputs": [
    {
     "name": "stdout",
     "output_type": "stream",
     "text": [
      "(25082,) (25082, 1)\n"
     ]
    },
    {
     "data": {
      "text/plain": [
       "<tf.Tensor: shape=(2, 2), dtype=int32, numpy=\n",
       "array([[22515,     0],\n",
       "       [ 2567,     0]], dtype=int32)>"
      ]
     },
     "execution_count": 140,
     "metadata": {},
     "output_type": "execute_result"
    }
   ],
   "source": [
    "print(te_labels.shape, te_pred.shape)\n",
    "conf_mat = tf.math.confusion_matrix(te_labels, te_pred)\n",
    "conf_mat"
   ]
  },
  {
   "cell_type": "code",
   "execution_count": 141,
   "id": "75389dc1-d13f-4f08-88f3-53beb4a1830d",
   "metadata": {},
   "outputs": [
    {
     "ename": "ValueError",
     "evalue": "Classification metrics can't handle a mix of binary and continuous targets",
     "output_type": "error",
     "traceback": [
      "\u001b[0;31m---------------------------------------------------------------------------\u001b[0m",
      "\u001b[0;31mValueError\u001b[0m                                Traceback (most recent call last)",
      "Cell \u001b[0;32mIn [141], line 2\u001b[0m\n\u001b[1;32m      1\u001b[0m \u001b[38;5;28;01mfrom\u001b[39;00m \u001b[38;5;21;01msklearn\u001b[39;00m\u001b[38;5;21;01m.\u001b[39;00m\u001b[38;5;21;01mmetrics\u001b[39;00m \u001b[38;5;28;01mimport\u001b[39;00m confusion_matrix\n\u001b[0;32m----> 2\u001b[0m \u001b[43mconfusion_matrix\u001b[49m\u001b[43m(\u001b[49m\u001b[43mte_labels\u001b[49m\u001b[43m,\u001b[49m\u001b[43m \u001b[49m\u001b[43mte_pred\u001b[49m\u001b[38;5;241;43m.\u001b[39;49m\u001b[43msqueeze\u001b[49m\u001b[43m(\u001b[49m\u001b[43m)\u001b[49m\u001b[43m)\u001b[49m\n",
      "File \u001b[0;32m~/anaconda3/envs/galaxye/lib/python3.10/site-packages/sklearn/metrics/_classification.py:307\u001b[0m, in \u001b[0;36mconfusion_matrix\u001b[0;34m(y_true, y_pred, labels, sample_weight, normalize)\u001b[0m\n\u001b[1;32m    222\u001b[0m \u001b[38;5;28;01mdef\u001b[39;00m \u001b[38;5;21mconfusion_matrix\u001b[39m(\n\u001b[1;32m    223\u001b[0m     y_true, y_pred, \u001b[38;5;241m*\u001b[39m, labels\u001b[38;5;241m=\u001b[39m\u001b[38;5;28;01mNone\u001b[39;00m, sample_weight\u001b[38;5;241m=\u001b[39m\u001b[38;5;28;01mNone\u001b[39;00m, normalize\u001b[38;5;241m=\u001b[39m\u001b[38;5;28;01mNone\u001b[39;00m\n\u001b[1;32m    224\u001b[0m ):\n\u001b[1;32m    225\u001b[0m     \u001b[38;5;124;03m\"\"\"Compute confusion matrix to evaluate the accuracy of a classification.\u001b[39;00m\n\u001b[1;32m    226\u001b[0m \n\u001b[1;32m    227\u001b[0m \u001b[38;5;124;03m    By definition a confusion matrix :math:`C` is such that :math:`C_{i, j}`\u001b[39;00m\n\u001b[0;32m   (...)\u001b[0m\n\u001b[1;32m    305\u001b[0m \u001b[38;5;124;03m    (0, 2, 1, 1)\u001b[39;00m\n\u001b[1;32m    306\u001b[0m \u001b[38;5;124;03m    \"\"\"\u001b[39;00m\n\u001b[0;32m--> 307\u001b[0m     y_type, y_true, y_pred \u001b[38;5;241m=\u001b[39m \u001b[43m_check_targets\u001b[49m\u001b[43m(\u001b[49m\u001b[43my_true\u001b[49m\u001b[43m,\u001b[49m\u001b[43m \u001b[49m\u001b[43my_pred\u001b[49m\u001b[43m)\u001b[49m\n\u001b[1;32m    308\u001b[0m     \u001b[38;5;28;01mif\u001b[39;00m y_type \u001b[38;5;129;01mnot\u001b[39;00m \u001b[38;5;129;01min\u001b[39;00m (\u001b[38;5;124m\"\u001b[39m\u001b[38;5;124mbinary\u001b[39m\u001b[38;5;124m\"\u001b[39m, \u001b[38;5;124m\"\u001b[39m\u001b[38;5;124mmulticlass\u001b[39m\u001b[38;5;124m\"\u001b[39m):\n\u001b[1;32m    309\u001b[0m         \u001b[38;5;28;01mraise\u001b[39;00m \u001b[38;5;167;01mValueError\u001b[39;00m(\u001b[38;5;124m\"\u001b[39m\u001b[38;5;132;01m%s\u001b[39;00m\u001b[38;5;124m is not supported\u001b[39m\u001b[38;5;124m\"\u001b[39m \u001b[38;5;241m%\u001b[39m y_type)\n",
      "File \u001b[0;32m~/anaconda3/envs/galaxye/lib/python3.10/site-packages/sklearn/metrics/_classification.py:93\u001b[0m, in \u001b[0;36m_check_targets\u001b[0;34m(y_true, y_pred)\u001b[0m\n\u001b[1;32m     90\u001b[0m     y_type \u001b[38;5;241m=\u001b[39m {\u001b[38;5;124m\"\u001b[39m\u001b[38;5;124mmulticlass\u001b[39m\u001b[38;5;124m\"\u001b[39m}\n\u001b[1;32m     92\u001b[0m \u001b[38;5;28;01mif\u001b[39;00m \u001b[38;5;28mlen\u001b[39m(y_type) \u001b[38;5;241m>\u001b[39m \u001b[38;5;241m1\u001b[39m:\n\u001b[0;32m---> 93\u001b[0m     \u001b[38;5;28;01mraise\u001b[39;00m \u001b[38;5;167;01mValueError\u001b[39;00m(\n\u001b[1;32m     94\u001b[0m         \u001b[38;5;124m\"\u001b[39m\u001b[38;5;124mClassification metrics can\u001b[39m\u001b[38;5;124m'\u001b[39m\u001b[38;5;124mt handle a mix of \u001b[39m\u001b[38;5;132;01m{0}\u001b[39;00m\u001b[38;5;124m and \u001b[39m\u001b[38;5;132;01m{1}\u001b[39;00m\u001b[38;5;124m targets\u001b[39m\u001b[38;5;124m\"\u001b[39m\u001b[38;5;241m.\u001b[39mformat(\n\u001b[1;32m     95\u001b[0m             type_true, type_pred\n\u001b[1;32m     96\u001b[0m         )\n\u001b[1;32m     97\u001b[0m     )\n\u001b[1;32m     99\u001b[0m \u001b[38;5;66;03m# We can't have more than one value on y_type => The set is no more needed\u001b[39;00m\n\u001b[1;32m    100\u001b[0m y_type \u001b[38;5;241m=\u001b[39m y_type\u001b[38;5;241m.\u001b[39mpop()\n",
      "\u001b[0;31mValueError\u001b[0m: Classification metrics can't handle a mix of binary and continuous targets"
     ]
    }
   ],
   "source": [
    "from sklearn.metrics import confusion_matrix\n",
    "confusion_matrix(te_labels, te_pred.squeeze())"
   ]
  },
  {
   "cell_type": "code",
   "execution_count": 130,
   "id": "342ab525-4b9f-4d66-8fae-ad6c6499f8d0",
   "metadata": {},
   "outputs": [
    {
     "data": {
      "text/plain": [
       "'class CNNet(nn.Module):\\n    def __init__(self, nb_feature):\\n        super(CNNet, self).__init__()\\n\\n        self.name = \\'CNNet\\'\\n        self.nb_feature = nb_feature\\n\\n        self.cnn = nn.Sequential(\\n            nn.Conv1d(self.nb_feature, 8, kernel_size = 5, stride = 1, padding = 2, dilation = 1),\\n            nn.BatchNorm1d(8),\\n            nn.ReLU(),\\n\\n            nn.Conv1d(8, 16, kernel_size = 5, stride = 1, padding = 2, dilation = 1),\\n            nn.BatchNorm1d(16),\\n            nn.ReLU(),\\n\\n            nn.Conv1d(16, 32, kernel_size = 5, stride = 1, padding = 2, dilation = 1),\\n            nn.BatchNorm1d(32),\\n            nn.ReLU(),\\n\\n            nn.Conv1d(32, 1, kernel_size = 5, stride = 1, padding = 2, dilation = 1)\\n        )\\n\\n    def forward(self, x):\\n        out = self.cnn(x)\\n        return out.squeeze()\\n    \\n#model = CNNet(len(variable))\\n\\nclass Lightning(LightningModule):\\n    def __init__(self, model, weight):\\n        super().__init__()\\n        self.model = model\\n        self.lr = 1e-3\\n        self.register_buffer(\"weight\", torch.FloatTensor([weight])) \\n\\n    def forward(self, x):\\n        return self.model(x)\\n\\n    def training_step(self, batch, batch_idx):\\n        x,y = batch\\n        \\n        out = self.forward(x)\\n        print(x.shape, y.shape, out.shape)\\n        loss = nn.functional.binary_cross_entropy_with_logits(out, y, pos_weight = self.weight)\\n        self.log(\"train_loss\", loss, on_epoch=True, prog_bar=True, logger=True)\\n        return loss\\n    def validation_step(self, batch, batch_idx):\\n        x,y = batch\\n        out = self.forward(x)\\n        loss = nn.functional.binary_cross_entropy_with_logits(out, y, pos_weight = self.weight)\\n        self.log(\\'val_loss\\', loss, on_epoch=True, prog_bar=True, logger=True)\\n        return loss\\n\\n    def test_step(self, batch, batch_idx):\\n        x,y = batch\\n        out = self.forward(x)\\n        loss = nn.functional.binary_cross_entropy_with_logits(out, y, pos_weight = self.weight)\\n        # self.log(\\'test_loss\\', loss, prog_bar=True, logger=True)\\n        return loss\\n\\n    def configure_optimizers(self):\\n        optimizer = torch.optim.Adam(self.parameters(), lr=self.lr)\\n        return optimizer\\n    \\ntrain_loader = DataLoader(train_set, batch_size = batch_size, shuffle = True)\\n\\nval_set = TrajDataSet_new(val, window, variable, transform=ToTensor())\\nval_loader = DataLoader(val_set, batch_size = batch_size, shuffle = False)\\n\\nmodel = Lightning(CNNet(len(variable)), W)\\nearlystopping = EarlyStopping(\\'val_loss\\')\\nmodelcheckpoint = ModelCheckpoint(\\n    dirpath = \\'./results\\',\\n    filename = \\'GalaxyLB_\\'+model.model.name+\\'_\\'+ str(resolution)+ \\'s--{epoch}-{val_loss:.2f}-{train_loss:.2f}\\',\\n    monitor = \\'val_loss\\')\\n\\ntrainer = Trainer(max_epochs=1,\\n                  callbacks=[modelcheckpoint, earlystopping],\\n                  deterministic = True,\\n                  benchmark = True,\\n                  logger = True)\\n\\ntrainer.fit(model, train_loader, val_loader)'"
      ]
     },
     "execution_count": 130,
     "metadata": {},
     "output_type": "execute_result"
    }
   ],
   "source": [
    "'''class CNNet(nn.Module):\n",
    "    def __init__(self, nb_feature):\n",
    "        super(CNNet, self).__init__()\n",
    "\n",
    "        self.name = 'CNNet'\n",
    "        self.nb_feature = nb_feature\n",
    "\n",
    "        self.cnn = nn.Sequential(\n",
    "            nn.Conv1d(self.nb_feature, 8, kernel_size = 5, stride = 1, padding = 2, dilation = 1),\n",
    "            nn.BatchNorm1d(8),\n",
    "            nn.ReLU(),\n",
    "\n",
    "            nn.Conv1d(8, 16, kernel_size = 5, stride = 1, padding = 2, dilation = 1),\n",
    "            nn.BatchNorm1d(16),\n",
    "            nn.ReLU(),\n",
    "\n",
    "            nn.Conv1d(16, 32, kernel_size = 5, stride = 1, padding = 2, dilation = 1),\n",
    "            nn.BatchNorm1d(32),\n",
    "            nn.ReLU(),\n",
    "\n",
    "            nn.Conv1d(32, 1, kernel_size = 5, stride = 1, padding = 2, dilation = 1)\n",
    "        )\n",
    "\n",
    "    def forward(self, x):\n",
    "        out = self.cnn(x)\n",
    "        return out.squeeze()\n",
    "    \n",
    "#model = CNNet(len(variable))\n",
    "\n",
    "class Lightning(LightningModule):\n",
    "    def __init__(self, model, weight):\n",
    "        super().__init__()\n",
    "        self.model = model\n",
    "        self.lr = 1e-3\n",
    "        self.register_buffer(\"weight\", torch.FloatTensor([weight])) \n",
    "\n",
    "    def forward(self, x):\n",
    "        return self.model(x)\n",
    "\n",
    "    def training_step(self, batch, batch_idx):\n",
    "        x,y = batch\n",
    "        \n",
    "        out = self.forward(x)\n",
    "        print(x.shape, y.shape, out.shape)\n",
    "        loss = nn.functional.binary_cross_entropy_with_logits(out, y, pos_weight = self.weight)\n",
    "        self.log(\"train_loss\", loss, on_epoch=True, prog_bar=True, logger=True)\n",
    "        return loss\n",
    "    def validation_step(self, batch, batch_idx):\n",
    "        x,y = batch\n",
    "        out = self.forward(x)\n",
    "        loss = nn.functional.binary_cross_entropy_with_logits(out, y, pos_weight = self.weight)\n",
    "        self.log('val_loss', loss, on_epoch=True, prog_bar=True, logger=True)\n",
    "        return loss\n",
    "\n",
    "    def test_step(self, batch, batch_idx):\n",
    "        x,y = batch\n",
    "        out = self.forward(x)\n",
    "        loss = nn.functional.binary_cross_entropy_with_logits(out, y, pos_weight = self.weight)\n",
    "        # self.log('test_loss', loss, prog_bar=True, logger=True)\n",
    "        return loss\n",
    "\n",
    "    def configure_optimizers(self):\n",
    "        optimizer = torch.optim.Adam(self.parameters(), lr=self.lr)\n",
    "        return optimizer\n",
    "    \n",
    "train_loader = DataLoader(train_set, batch_size = batch_size, shuffle = True)\n",
    "\n",
    "val_set = TrajDataSet_new(val, window, variable, transform=ToTensor())\n",
    "val_loader = DataLoader(val_set, batch_size = batch_size, shuffle = False)\n",
    "\n",
    "model = Lightning(CNNet(len(variable)), W)\n",
    "earlystopping = EarlyStopping('val_loss')\n",
    "modelcheckpoint = ModelCheckpoint(\n",
    "    dirpath = './results',\n",
    "    filename = 'GalaxyLB_'+model.model.name+'_'+ str(resolution)+ 's--{epoch}-{val_loss:.2f}-{train_loss:.2f}',\n",
    "    monitor = 'val_loss')\n",
    "\n",
    "trainer = Trainer(max_epochs=1,\n",
    "                  callbacks=[modelcheckpoint, earlystopping],\n",
    "                  deterministic = True,\n",
    "                  benchmark = True,\n",
    "                  logger = True)\n",
    "\n",
    "trainer.fit(model, train_loader, val_loader)'''"
   ]
  },
  {
   "cell_type": "code",
   "execution_count": 12,
   "id": "7a571c6c-3f3e-4cfa-9172-e6d821f23f49",
   "metadata": {},
   "outputs": [
    {
     "ename": "TypeError",
     "evalue": "Module.train() takes from 1 to 2 positional arguments but 3 were given",
     "output_type": "error",
     "traceback": [
      "\u001b[0;31m---------------------------------------------------------------------------\u001b[0m",
      "\u001b[0;31mTypeError\u001b[0m                                 Traceback (most recent call last)",
      "Cell \u001b[0;32mIn [12], line 1\u001b[0m\n\u001b[0;32m----> 1\u001b[0m tr_params \u001b[38;5;241m=\u001b[39m \u001b[43mmodel\u001b[49m\u001b[38;5;241;43m.\u001b[39;49m\u001b[43mtrain\u001b[49m\u001b[43m(\u001b[49m\u001b[43mtr_features\u001b[49m\u001b[43m,\u001b[49m\u001b[43m \u001b[49m\u001b[43mtr_labels\u001b[49m\u001b[43m)\u001b[49m\n",
      "\u001b[0;31mTypeError\u001b[0m: Module.train() takes from 1 to 2 positional arguments but 3 were given"
     ]
    }
   ],
   "source": [
    "tr_params = model.train(tr_features, tr_labels)"
   ]
  },
  {
   "cell_type": "code",
   "execution_count": 78,
   "id": "f35b5233-cc11-4dbe-83c7-e2a807a819ba",
   "metadata": {},
   "outputs": [
    {
     "name": "stdout",
     "output_type": "stream",
     "text": [
      "{'0': 58592, '1': 7870}\n"
     ]
    },
    {
     "data": {
      "image/png": "[encoded data removed]",
      "text/plain": [
       "<Figure size 640x480 with 1 Axes>"
      ]
     },
     "metadata": {},
     "output_type": "display_data"
    }
   ],
   "source": [
    "tr_labels_sq = tr_labels.squeeze()\n",
    "tr_labels_sq_frq = dict()\n",
    "for i in range(tr_labels_sq.shape[0]):\n",
    "    if tr_labels_sq[i] == 0.0:\n",
    "        if \"0\" not in tr_labels_sq_frq:\n",
    "            tr_labels_sq_frq[\"0\"] = 0\n",
    "        tr_labels_sq_frq[\"0\"] += 1\n",
    "    else:\n",
    "        if \"1\" not in tr_labels_sq_frq:\n",
    "            tr_labels_sq_frq[\"1\"] = 0\n",
    "        tr_labels_sq_frq[\"1\"] += 1 \n",
    "    \n",
    "print(tr_labels_sq_frq)\n",
    "plt.plot(list(np.arange(0, 66462)), list(tr_labels.squeeze()))\n",
    "plt.show()"
   ]
  },
  {
   "cell_type": "code",
   "execution_count": 88,
   "id": "2cb895fb-8274-40c1-9079-d4f83e42ea56",
   "metadata": {},
   "outputs": [
    {
     "data": {
      "text/plain": [
       "((39350, 3, 21), (39350,))"
      ]
     },
     "execution_count": 88,
     "metadata": {},
     "output_type": "execute_result"
    }
   ],
   "source": [
    "# Oversample positive samples\n",
    "over_pos_samples = list()\n",
    "over_pos_labels = list()\n",
    "for i in range(tr_labels_sq.shape[0]):\n",
    "    if tr_labels_sq[i] == 1:\n",
    "        over_pos_samples.append(tr_features[i])\n",
    "        over_pos_labels.append(tr_labels_sq[i])\n",
    "        \n",
    "over_pos_samples = np.array(over_pos_samples)\n",
    "\n",
    "oversample_factor = 5\n",
    "\n",
    "re_over_pos_sample = np.repeat(over_pos_samples, oversample_factor, axis=0)\n",
    "re_over_pos_labels = np.repeat(over_pos_labels, oversample_factor, axis=0)\n",
    "re_over_pos_sample.shape, re_over_pos_labels.shape"
   ]
  },
  {
   "cell_type": "code",
   "execution_count": 90,
   "id": "1ff60377-69ec-434d-a047-ff5cece92827",
   "metadata": {},
   "outputs": [
    {
     "data": {
      "text/plain": [
       "((105812, 3, 21), (105812,))"
      ]
     },
     "execution_count": 90,
     "metadata": {},
     "output_type": "execute_result"
    }
   ],
   "source": [
    "oversample_tr_features = np.concatenate((tr_features, re_over_pos_sample), axis=0)\n",
    "oversample_tr_labels = np.concatenate((tr_labels_sq, re_over_pos_labels), axis=0)\n",
    "oversample_tr_features.shape, oversample_tr_labels.shape"
   ]
  },
  {
   "cell_type": "code",
   "execution_count": 92,
   "id": "63828dcb-d4b1-4c0f-9665-8c43d082efa2",
   "metadata": {},
   "outputs": [
    {
     "data": {
      "text/plain": [
       "((105812, 3, 21), (105812,))"
      ]
     },
     "execution_count": 92,
     "metadata": {},
     "output_type": "execute_result"
    }
   ],
   "source": [
    "oversample_tr_features = np.concatenate((tr_features, re_over_pos_sample), axis=0)\n",
    "oversample_tr_labels = np.concatenate((tr_labels_sq, re_over_pos_labels), axis=0)\n",
    "oversample_tr_features.shape, oversample_tr_labels.shape\n",
    "idx = np.random.permutation(oversample_tr_features.shape[0])\n",
    "oversample_tr_features, oversample_tr_labels = oversample_tr_features[idx], oversample_tr_labels[idx]\n",
    "oversample_tr_features.shape, oversample_tr_labels.shape"
   ]
  },
  {
   "cell_type": "code",
   "execution_count": 44,
   "id": "918cf0f1-0072-4f65-8767-7d47fde75e53",
   "metadata": {},
   "outputs": [
    {
     "name": "stderr",
     "output_type": "stream",
     "text": [
      "2022-10-19 12:36:09.184064: I tensorflow/core/platform/cpu_feature_guard.cc:193] This TensorFlow binary is optimized with oneAPI Deep Neural Network Library (oneDNN) to use the following CPU instructions in performance-critical operations:  SSE4.1 SSE4.2 AVX AVX2 FMA\n",
      "To enable them in other operations, rebuild TensorFlow with the appropriate compiler flags.\n"
     ]
    }
   ],
   "source": [
    "import tensorflow as tf"
   ]
  },
  {
   "cell_type": "code",
   "execution_count": 141,
   "id": "f8c2ed6d-6c6e-44d5-af35-97a69daa483f",
   "metadata": {},
   "outputs": [
    {
     "data": {
      "text/plain": [
       "<keras.engine.functional.Functional at 0x7fd1507c7550>"
      ]
     },
     "execution_count": 141,
     "metadata": {},
     "output_type": "execute_result"
    }
   ],
   "source": [
    "'''\n",
    "self.cnn = nn.Sequential(\n",
    "    nn.Conv1d(self.nb_feature, 8, kernel_size = 5, stride = 1, padding = 2, dilation = 1),\n",
    "    nn.BatchNorm1d(8),\n",
    "    nn.ReLU(),\n",
    "\n",
    "    nn.Conv1d(8, 16, kernel_size = 5, stride = 1, padding = 2, dilation = 1),\n",
    "    nn.BatchNorm1d(16),\n",
    "    nn.ReLU(),\n",
    "\n",
    "    nn.Conv1d(16, 32, kernel_size = 5, stride = 1, padding = 2, dilation = 1),\n",
    "    nn.BatchNorm1d(32),\n",
    "    nn.ReLU(),\n",
    "\n",
    "    nn.Conv1d(32, 1, kernel_size = 5, stride = 1, padding = 2, dilation = 1)\n",
    ")\n",
    "'''\n",
    "\n",
    "'''model = tf.keras.models.Sequential([\n",
    "    tf.keras.layers.Conv1D(8, kernel_size=5, padding='same', activation='relu', strides=1, input_shape=(3, 21)),\n",
    "    tf.keras.layers.BatchNormalization(),\n",
    "    tf.keras.layers.Conv1D(16, kernel_size=5, padding='same', activation='relu', strides=1),\n",
    "    tf.keras.layers.BatchNormalization(),\n",
    "    tf.keras.layers.Conv1D(32, kernel_size=5, padding='same', activation='relu', strides=1),\n",
    "    tf.keras.layers.BatchNormalization(),\n",
    "    tf.keras.layers.Conv1D(1, kernel_size=5, padding='same', strides=1),\n",
    "])\n",
    "\n",
    "model.compile(\n",
    "    optimizer='adam',\n",
    "    loss= 'binary_crossentropy', #tf.keras.losses.BinaryCrossentropy(from_logits=False), #'binary_crossentropy',\n",
    "    metrics=['accuracy']\n",
    ")\n",
    "\n",
    "model.summary()'''\n",
    "\n",
    "optimizer = tf.keras.optimizers.Adam()\n",
    "loss = tf.keras.losses.BinaryCrossentropy(from_logits=False)\n",
    "\n",
    "def create_model():\n",
    "    \n",
    "    inp = tf.keras.Input(shape=(3, 21))\n",
    "    conv1d_1 = tf.keras.layers.Conv1D(8, kernel_size=5, padding='same', activation='relu', strides=1)\n",
    "    conv1d_2 = tf.keras.layers.Conv1D(16, kernel_size=5, padding='same', activation='relu', strides=1)\n",
    "    conv1d_3 = tf.keras.layers.Conv1D(32, kernel_size=5, padding='same', activation='relu', strides=1)\n",
    "    conv1d_4 = tf.keras.layers.Conv1D(1, kernel_size=5, padding='same', strides=1)\n",
    "    #output_layer = tf.keras.layers.Dense(1)\n",
    "    \n",
    "    x = conv1d_1(inp)\n",
    "    x = conv1d_2(x)\n",
    "    x = conv1d_3(x)\n",
    "    x = conv1d_4(x)\n",
    "    #conv_out = output_layer(x)\n",
    "    model = tf.keras.Model([inp], [x])\n",
    "    return model\n",
    "    \n",
    "create_model()\n"
   ]
  },
  {
   "cell_type": "code",
   "execution_count": 129,
   "id": "6bc2ef71-9d21-4ae8-937b-ab89ff380c52",
   "metadata": {},
   "outputs": [
    {
     "name": "stdout",
     "output_type": "stream",
     "text": [
      "Epoch 1/5\n",
      "3307/3307 [==============================] - 11s 3ms/step - loss: 4.0804 - accuracy: 0.5134 - val_loss: 1.5913 - val_accuracy: 0.6213\n",
      "Epoch 2/5\n",
      "3307/3307 [==============================] - 13s 4ms/step - loss: 2.5373 - accuracy: 0.5147 - val_loss: 1.4616 - val_accuracy: 0.6220\n",
      "Epoch 3/5\n",
      "3307/3307 [==============================] - 13s 4ms/step - loss: 1.6962 - accuracy: 0.5140 - val_loss: 0.8352 - val_accuracy: 0.6822\n",
      "Epoch 4/5\n",
      "3307/3307 [==============================] - 13s 4ms/step - loss: 0.8600 - accuracy: 0.5261 - val_loss: 0.6156 - val_accuracy: 0.8048\n",
      "Epoch 5/5\n",
      "3307/3307 [==============================] - 14s 4ms/step - loss: 0.6945 - accuracy: 0.5407 - val_loss: 0.6388 - val_accuracy: 0.8168\n"
     ]
    },
    {
     "data": {
      "text/plain": [
       "<keras.callbacks.History at 0x7fd158279db0>"
      ]
     },
     "execution_count": 129,
     "metadata": {},
     "output_type": "execute_result"
    }
   ],
   "source": [
    "model.fit(oversample_tr_features, oversample_tr_labels, batch_size=32, validation_data=(validation_features, validation_labels), epochs=5)"
   ]
  },
  {
   "cell_type": "code",
   "execution_count": 131,
   "id": "11ec1271-8b85-4c92-bdcf-378b553b78ca",
   "metadata": {},
   "outputs": [
    {
     "name": "stdout",
     "output_type": "stream",
     "text": [
      "(24782, 3, 21)\n",
      "(24782, 1)\n"
     ]
    }
   ],
   "source": [
    "test_set = GalaxyTrajDataSet(test, window, variable, transform=transforms.Compose([Center(), ToTensor()]))\n",
    "te_features, te_labels = create_mat(test_set)"
   ]
  },
  {
   "cell_type": "code",
   "execution_count": 133,
   "id": "5e797508-04fc-46b9-a247-841e5aae4732",
   "metadata": {},
   "outputs": [
    {
     "name": "stdout",
     "output_type": "stream",
     "text": [
      "775/775 [==============================] - 1s 1ms/step\n"
     ]
    }
   ],
   "source": [
    "te_pred = model.predict(te_features)"
   ]
  },
  {
   "cell_type": "code",
   "execution_count": 135,
   "id": "42ae777b-5c28-4042-be37-d5abbd98fde0",
   "metadata": {},
   "outputs": [
    {
     "data": {
      "text/plain": [
       "(24782, 3, 1)"
      ]
     },
     "execution_count": 135,
     "metadata": {},
     "output_type": "execute_result"
    }
   ],
   "source": [
    "te_pred.shape"
   ]
  },
  {
   "cell_type": "code",
   "execution_count": 136,
   "id": "8b742715-a8d6-4486-ab5e-960c7d0dc4ce",
   "metadata": {},
   "outputs": [
    {
     "data": {
      "text/plain": [
       "array([[0.43524718],\n",
       "       [0.4750998 ],\n",
       "       [0.44796276]], dtype=float32)"
      ]
     },
     "execution_count": 136,
     "metadata": {},
     "output_type": "execute_result"
    }
   ],
   "source": [
    "te_pred[0]"
   ]
  },
  {
   "cell_type": "code",
   "execution_count": 137,
   "id": "ee9f981e-8418-487e-9910-5456d6b7d390",
   "metadata": {},
   "outputs": [
    {
     "data": {
      "text/plain": [
       "array([0.], dtype=float32)"
      ]
     },
     "execution_count": 137,
     "metadata": {},
     "output_type": "execute_result"
    }
   ],
   "source": [
    "te_labels[0]"
   ]
  },
  {
   "cell_type": "code",
   "execution_count": null,
   "id": "683f5a39-e6cd-4642-a07f-988bc49da966",
   "metadata": {},
   "outputs": [],
   "source": []
  }
 ],
 "metadata": {
  "kernelspec": {
   "display_name": "Python 3 (ipykernel)",
   "language": "python",
   "name": "python3"
  },
  "language_info": {
   "codemirror_mode": {
    "name": "ipython",
    "version": 3
   },
   "file_extension": ".py",
   "mimetype": "text/x-python",
   "name": "python",
   "nbconvert_exporter": "python",
   "pygments_lexer": "ipython3",
   "version": "3.10.6"
  }
 },
 "nbformat": 4,
 "nbformat_minor": 5
}
